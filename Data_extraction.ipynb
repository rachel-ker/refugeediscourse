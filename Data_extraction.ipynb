{
 "cells": [
  {
   "cell_type": "code",
   "execution_count": 1,
   "metadata": {},
   "outputs": [],
   "source": [
    "import GetOldTweets3 as got3\n",
    "import pandas as pd\n",
    "from datetime import datetime\n",
    "from dateutil.relativedelta import relativedelta\n",
    "import time"
   ]
  },
  {
   "cell_type": "markdown",
   "metadata": {},
   "source": [
    "I will extract top tweets for the past 10 years. 100 top tweets will be extracted each month on the specified topic for past 10 years"
   ]
  },
  {
   "cell_type": "code",
   "execution_count": 3,
   "metadata": {},
   "outputs": [],
   "source": [
    "\n",
    "def get_tweets(topic, end_date, years=10):\n",
    "    columns = ['id', 'url', 'author', 'retweets', 'favorites', 'mentions', 'hashtags', 'geo', 'time', 'text']\n",
    "    text_query = topic\n",
    "    \n",
    "    end_date_datetime = datetime.strptime(end_date, '%Y-%m-%d')\n",
    "\n",
    "    \n",
    "    date_range = [end_date_datetime]\n",
    "    total_months = 12 * years\n",
    "    \n",
    "    prior_date = end_date_datetime\n",
    "    \n",
    "    while total_months > 1:\n",
    "        prior_date = prior_date - relativedelta(months=1)\n",
    "        date_range.append(prior_date)\n",
    "        total_months -= 1\n",
    "        \n",
    "    \n",
    "    date_range_string = [twitter_date.strftime('%Y-%m-%d') for twitter_date in date_range][::-1]\n",
    "    print(\"Start querying data...\")\n",
    "    \n",
    "    \n",
    "    compiled_tweets_list = []\n",
    "    \n",
    "    for i in range(len(date_range_string)-1):\n",
    "        tweetCriteria = got3.manager\\\n",
    "                .TweetCriteria()\\\n",
    "                .setQuerySearch(text_query)\\\n",
    "                .setLang('en')\\\n",
    "                .setSince(date_range_string[i])\\\n",
    "                .setUntil(date_range_string[i+1])\\\n",
    "                .setTopTweets(True)\\\n",
    "                .setMaxTweets(100)\n",
    "\n",
    "        tweets = got3.manager.TweetManager.getTweets(tweetCriteria)\n",
    "\n",
    "        text_tweets = [[tweet.id, tweet.permalink, tweet.username, tweet.retweets, \n",
    "                tweet.favorites, tweet.mentions, tweet.hashtags, tweet.geo, \n",
    "                tweet.date, tweet.text] for tweet in tweets]\n",
    "\n",
    "        sample_tweets = pd.DataFrame(text_tweets, columns=columns)\n",
    "        compiled_tweets_list.append(sample_tweets)\n",
    "        print(\"Iteration {} complete!\".format(i+1))\n",
    "        print(\"Pause the operation...\")\n",
    "        time.sleep(30)\n",
    "        print(\"Begin new iteration...\")\n",
    "        \n",
    "    return pd.concat(compiled_tweets_list)\n",
    "    "
   ]
  },
  {
   "cell_type": "code",
   "execution_count": null,
   "metadata": {},
   "outputs": [
    {
     "name": "stdout",
     "output_type": "stream",
     "text": [
      "Start querying data...\n",
      "Iteration 1 complete!\n",
      "Pause the operation...\n",
      "Begin new iteration...\n",
      "Iteration 2 complete!\n",
      "Pause the operation...\n",
      "Begin new iteration...\n",
      "Iteration 3 complete!\n",
      "Pause the operation...\n"
     ]
    }
   ],
   "source": [
    "tweets = get_tweets(\"immigration\", \"2019-12-01\")"
   ]
  },
  {
   "cell_type": "code",
   "execution_count": 45,
   "metadata": {},
   "outputs": [
    {
     "data": {
      "text/html": [
       "<div>\n",
       "<style scoped>\n",
       "    .dataframe tbody tr th:only-of-type {\n",
       "        vertical-align: middle;\n",
       "    }\n",
       "\n",
       "    .dataframe tbody tr th {\n",
       "        vertical-align: top;\n",
       "    }\n",
       "\n",
       "    .dataframe thead th {\n",
       "        text-align: right;\n",
       "    }\n",
       "</style>\n",
       "<table border=\"1\" class=\"dataframe\">\n",
       "  <thead>\n",
       "    <tr style=\"text-align: right;\">\n",
       "      <th></th>\n",
       "      <th>id</th>\n",
       "      <th>url</th>\n",
       "      <th>author</th>\n",
       "      <th>retweets</th>\n",
       "      <th>favorites</th>\n",
       "      <th>mentions</th>\n",
       "      <th>hashtags</th>\n",
       "      <th>geo</th>\n",
       "      <th>time</th>\n",
       "      <th>text</th>\n",
       "    </tr>\n",
       "  </thead>\n",
       "  <tbody>\n",
       "  </tbody>\n",
       "</table>\n",
       "</div>"
      ],
      "text/plain": [
       "Empty DataFrame\n",
       "Columns: [id, url, author, retweets, favorites, mentions, hashtags, geo, time, text]\n",
       "Index: []"
      ]
     },
     "execution_count": 45,
     "metadata": {},
     "output_type": "execute_result"
    }
   ],
   "source": [
    "tweets"
   ]
  },
  {
   "cell_type": "code",
   "execution_count": null,
   "metadata": {},
   "outputs": [],
   "source": []
  }
 ],
 "metadata": {
  "kernelspec": {
   "display_name": "Python 3",
   "language": "python",
   "name": "python3"
  },
  "language_info": {
   "codemirror_mode": {
    "name": "ipython",
    "version": 3
   },
   "file_extension": ".py",
   "mimetype": "text/x-python",
   "name": "python",
   "nbconvert_exporter": "python",
   "pygments_lexer": "ipython3",
   "version": "3.6.6"
  }
 },
 "nbformat": 4,
 "nbformat_minor": 4
}
