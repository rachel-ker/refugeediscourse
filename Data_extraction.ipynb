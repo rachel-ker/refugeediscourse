{
 "cells": [
  {
   "cell_type": "code",
   "execution_count": 1,
   "metadata": {},
   "outputs": [],
   "source": [
    "import GetOldTweets3 as got3\n",
    "import pandas as pd\n",
    "from datetime import datetime\n",
    "from dateutil.relativedelta import relativedelta\n",
    "import time"
   ]
  },
  {
   "cell_type": "markdown",
   "metadata": {},
   "source": [
    "I will extract top tweets for the past 10 years. 100 top tweets will be extracted each month on the specified topic for past 10 years"
   ]
  },
  {
   "cell_type": "code",
   "execution_count": 2,
   "metadata": {},
   "outputs": [],
   "source": [
    "\n",
    "def get_tweets(topic, end_date, years=10):\n",
    "    columns = ['id', 'url', 'author', 'retweets', 'favorites', 'mentions', 'hashtags', 'geo', 'time', 'text']\n",
    "    text_query = topic\n",
    "    \n",
    "    # convert the end_date string to the datetime object\n",
    "    end_date_datetime = datetime.strptime(end_date, '%Y-%m-%d')\n",
    "\n",
    "    # This section is to create a list of datetime objects that are 1 month apart going backwards\n",
    "    date_range = [end_date_datetime]\n",
    "    total_months = 12 * years\n",
    "    \n",
    "    prior_date = end_date_datetime\n",
    "    \n",
    "    while total_months > 0:\n",
    "        prior_date = prior_date - relativedelta(months=1)\n",
    "        date_range.append(prior_date)\n",
    "        total_months -= 1\n",
    "        \n",
    "    # Convert the elements in the list from datetime objects to string\n",
    "    date_range_string = [twitter_date.strftime('%Y-%m-%d') for twitter_date in date_range][::-1]\n",
    "    print(\"Start querying data...\")\n",
    "    \n",
    "    # Initialize an empty list to store dataframe from each iteration\n",
    "    compiled_tweets_df = pd.DataFrame(columns=columns)\n",
    "    \n",
    "    \n",
    "    for i in range(len(date_range_string)-1):\n",
    "        tweetCriteria = got3.manager\\\n",
    "                .TweetCriteria()\\\n",
    "                .setQuerySearch(text_query)\\\n",
    "                .setLang('en')\\\n",
    "                .setSince(date_range_string[i])\\\n",
    "                .setUntil(date_range_string[i+1])\\\n",
    "                .setTopTweets(True)\\\n",
    "                .setMaxTweets(100)\n",
    "\n",
    "        tweets = got3.manager.TweetManager.getTweets(tweetCriteria)\n",
    "\n",
    "        text_tweets = [[tweet.id, tweet.permalink, tweet.username, tweet.retweets, \n",
    "                tweet.favorites, tweet.mentions, tweet.hashtags, tweet.geo, \n",
    "                tweet.date, tweet.text] for tweet in tweets]\n",
    "\n",
    "        sample_tweets = pd.DataFrame(text_tweets, columns=columns)\n",
    "        compiled_tweets_df = pd.concat([compiled_tweets_df, sample_tweets])\n",
    "        print(\"Query between {} and {} complete!\".format(date_range_string[i], date_range_string[i+1]))\n",
    "        print(\"Pause the operation...\")\n",
    "        time.sleep(3)\n",
    "        print(\"Begin new iteration...\")\n",
    "        \n",
    "    return compiled_tweets_df # concatenate the list of dataframe into a single dataframe\n",
    "    print(\"Operation complete!\")\n",
    "    "
   ]
  },
  {
   "cell_type": "code",
   "execution_count": null,
   "metadata": {},
   "outputs": [
    {
     "name": "stdout",
     "output_type": "stream",
     "text": [
      "Start querying data...\n",
      "Query between 2010-02-01 and 2010-03-01 complete!\n",
      "Pause the operation...\n",
      "Begin new iteration...\n",
      "Query between 2010-03-01 and 2010-04-01 complete!\n",
      "Pause the operation...\n",
      "Begin new iteration...\n",
      "Query between 2010-04-01 and 2010-05-01 complete!\n",
      "Pause the operation...\n",
      "Begin new iteration...\n",
      "Query between 2010-05-01 and 2010-06-01 complete!\n",
      "Pause the operation...\n",
      "Begin new iteration...\n",
      "Query between 2010-06-01 and 2010-07-01 complete!\n",
      "Pause the operation...\n",
      "Begin new iteration...\n",
      "Query between 2010-07-01 and 2010-08-01 complete!\n",
      "Pause the operation...\n",
      "Begin new iteration...\n",
      "Query between 2010-08-01 and 2010-09-01 complete!\n",
      "Pause the operation...\n",
      "Begin new iteration...\n",
      "Query between 2010-09-01 and 2010-10-01 complete!\n",
      "Pause the operation...\n",
      "Begin new iteration...\n",
      "Query between 2010-10-01 and 2010-11-01 complete!\n",
      "Pause the operation...\n"
     ]
    }
   ],
   "source": [
    "tweets = get_tweets(\"immigration\", \"2020-02-01\")"
   ]
  },
  {
   "cell_type": "code",
   "execution_count": null,
   "metadata": {},
   "outputs": [],
   "source": [
    "tweets"
   ]
  },
  {
   "cell_type": "code",
   "execution_count": null,
   "metadata": {},
   "outputs": [],
   "source": [
    "tweets"
   ]
  },
  {
   "cell_type": "code",
   "execution_count": null,
   "metadata": {},
   "outputs": [],
   "source": []
  }
 ],
 "metadata": {
  "kernelspec": {
   "display_name": "Python 3",
   "language": "python",
   "name": "python3"
  },
  "language_info": {
   "codemirror_mode": {
    "name": "ipython",
    "version": 3
   },
   "file_extension": ".py",
   "mimetype": "text/x-python",
   "name": "python",
   "nbconvert_exporter": "python",
   "pygments_lexer": "ipython3",
   "version": "3.6.6"
  }
 },
 "nbformat": 4,
 "nbformat_minor": 4
}
