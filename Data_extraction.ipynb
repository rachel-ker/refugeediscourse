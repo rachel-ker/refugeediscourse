{
 "cells": [
  {
   "cell_type": "code",
   "execution_count": 46,
   "metadata": {},
   "outputs": [],
   "source": [
    "import GetOldTweets3 as got3\n",
    "import pandas as pd\n",
    "from datetime import datetime\n",
    "from dateutil.relativedelta import relativedelta\n",
    "import time"
   ]
  },
  {
   "cell_type": "markdown",
   "metadata": {},
   "source": [
    "I will extract top tweets for the past 10 years. 100 top tweets will be extracted each month on the specified topic for past 10 years"
   ]
  },
  {
   "cell_type": "code",
   "execution_count": 47,
   "metadata": {},
   "outputs": [],
   "source": [
    "\n",
    "def get_tweets(topic, end_date, years=10):\n",
    "    columns = ['id', 'url', 'author', 'retweets', 'favorites', 'mentions', 'hashtags', 'geo', 'time', 'text']\n",
    "    text_query = topic\n",
    "    \n",
    "    end_date_datetime = datetime.strptime(end_date, '%Y-%m-%d')\n",
    "\n",
    "    \n",
    "    date_range = [end_date_datetime]\n",
    "    total_months = 12 * years\n",
    "    \n",
    "    prior_date = end_date_datetime\n",
    "    \n",
    "    while total_months > 1:\n",
    "        prior_date = prior_date - relativedelta(months=1)\n",
    "        date_range.append(prior_date)\n",
    "        total_months -= 1\n",
    "        \n",
    "    \n",
    "    date_range_string = [twitter_date.strftime('%Y-%m-%d') for twitter_date in date_range][::-1]\n",
    "    \n",
    "    \n",
    "    \n",
    "    compiled_tweets_list = []\n",
    "    \n",
    "    for i in range(len(date_range_string)-1):\n",
    "        tweetCriteria = got3.manager\\\n",
    "                .TweetCriteria()\\\n",
    "                .setQuerySearch(text_query)\\\n",
    "                .setLang('en')\\\n",
    "                .setSince(date_range_string[i])\\\n",
    "                .setUntil(date_range_string[i+1])\\\n",
    "                .setTopTweets(True)\\\n",
    "                .setMaxTweets(100)\n",
    "\n",
    "        tweets = got3.manager.TweetManager.getTweets(tweetCriteria)\n",
    "\n",
    "        text_tweets = [[tweet.id, tweet.permalink, tweet.username, tweet.retweets, \n",
    "                tweet.favorites, tweet.mentions, tweet.hashtags, tweet.geo, \n",
    "                tweet.date, tweet.text] for tweet in tweets]\n",
    "\n",
    "        sample_tweets = pd.DataFrame(text_tweets, columns=columns)\n",
    "        compiled_tweets_list.append(sample_tweets)\n",
    "        time.sleep(30)\n",
    "        \n",
    "    return pd.concat(compiled_tweets_list)\n",
    "    "
   ]
  },
  {
   "cell_type": "code",
   "execution_count": 49,
   "metadata": {},
   "outputs": [
    {
     "name": "stderr",
     "output_type": "stream",
     "text": [
      "ERROR:root:Internal Python error in the inspect module.\n",
      "Below is the traceback from this internal error.\n",
      "\n"
     ]
    },
    {
     "name": "stdout",
     "output_type": "stream",
     "text": [
      "An error occured during an HTTP request: HTTP Error 429: Too Many Requests\n",
      "Try to open in browser: https://twitter.com/search?q=immigration%20since%3A2010-01-01%20until%3A2010-02-01&src=typd\n",
      "Traceback (most recent call last):\n",
      "  File \"D:\\Anaconda_Navigator\\envs\\computational_content_analysis\\lib\\site-packages\\GetOldTweets3\\manager\\TweetManager.py\", line 343, in getJsonResponse\n",
      "    response = opener.open(url)\n",
      "  File \"D:\\Anaconda_Navigator\\envs\\computational_content_analysis\\lib\\urllib\\request.py\", line 532, in open\n",
      "    response = meth(req, response)\n",
      "  File \"D:\\Anaconda_Navigator\\envs\\computational_content_analysis\\lib\\urllib\\request.py\", line 642, in http_response\n",
      "    'http', request, response, code, msg, hdrs)\n",
      "  File \"D:\\Anaconda_Navigator\\envs\\computational_content_analysis\\lib\\urllib\\request.py\", line 570, in error\n",
      "    return self._call_chain(*args)\n",
      "  File \"D:\\Anaconda_Navigator\\envs\\computational_content_analysis\\lib\\urllib\\request.py\", line 504, in _call_chain\n",
      "    result = func(*args)\n",
      "  File \"D:\\Anaconda_Navigator\\envs\\computational_content_analysis\\lib\\urllib\\request.py\", line 650, in http_error_default\n",
      "    raise HTTPError(req.full_url, code, msg, hdrs, fp)\n",
      "urllib.error.HTTPError: HTTP Error 429: Too Many Requests\n",
      "\n",
      "During handling of the above exception, another exception occurred:\n",
      "\n",
      "Traceback (most recent call last):\n",
      "  File \"C:\\Users\\John Xu\\AppData\\Roaming\\Python\\Python36\\site-packages\\IPython\\core\\interactiveshell.py\", line 3319, in run_code\n",
      "    exec(code_obj, self.user_global_ns, self.user_ns)\n",
      "  File \"<ipython-input-49-2a53f5bf9e7c>\", line 1, in <module>\n",
      "    tweets = get_tweets(\"immigration\", \"2019-12-01\")\n",
      "  File \"<ipython-input-47-f12c55083752>\", line 35, in get_tweets\n",
      "    tweets = got3.manager.TweetManager.getTweets(tweetCriteria)\n",
      "  File \"D:\\Anaconda_Navigator\\envs\\computational_content_analysis\\lib\\site-packages\\GetOldTweets3\\manager\\TweetManager.py\", line 65, in getTweets\n",
      "    json = TweetManager.getJsonResponse(tweetCriteria, refreshCursor, cookieJar, proxy, user_agent, debug=debug)\n",
      "  File \"D:\\Anaconda_Navigator\\envs\\computational_content_analysis\\lib\\site-packages\\GetOldTweets3\\manager\\TweetManager.py\", line 348, in getJsonResponse\n",
      "    sys.exit()\n",
      "SystemExit\n",
      "\n",
      "During handling of the above exception, another exception occurred:\n",
      "\n",
      "Traceback (most recent call last):\n",
      "  File \"C:\\Users\\John Xu\\AppData\\Roaming\\Python\\Python36\\site-packages\\IPython\\core\\ultratb.py\", line 1151, in get_records\n",
      "    return _fixed_getinnerframes(etb, number_of_lines_of_context, tb_offset)\n",
      "  File \"C:\\Users\\John Xu\\AppData\\Roaming\\Python\\Python36\\site-packages\\IPython\\core\\ultratb.py\", line 319, in wrapped\n",
      "    return f(*args, **kwargs)\n",
      "  File \"C:\\Users\\John Xu\\AppData\\Roaming\\Python\\Python36\\site-packages\\IPython\\core\\ultratb.py\", line 353, in _fixed_getinnerframes\n",
      "    records = fix_frame_records_filenames(inspect.getinnerframes(etb, context))\n",
      "  File \"D:\\Anaconda_Navigator\\envs\\computational_content_analysis\\lib\\inspect.py\", line 1483, in getinnerframes\n",
      "    frameinfo = (tb.tb_frame,) + getframeinfo(tb, context)\n",
      "AttributeError: 'tuple' object has no attribute 'tb_frame'\n"
     ]
    },
    {
     "ename": "SystemExit",
     "evalue": "",
     "output_type": "error",
     "traceback": [
      "An exception has occurred, use %tb to see the full traceback.\n",
      "\u001b[1;31m---------------------------------------------------------------------------\u001b[0m",
      "\nDuring handling of the above exception, another exception occurred:\n",
      "\u001b[1;31mSystemExit\u001b[0m\n"
     ]
    }
   ],
   "source": [
    "tweets = get_tweets(\"immigration\", \"2019-12-01\")"
   ]
  },
  {
   "cell_type": "code",
   "execution_count": 45,
   "metadata": {},
   "outputs": [
    {
     "data": {
      "text/html": [
       "<div>\n",
       "<style scoped>\n",
       "    .dataframe tbody tr th:only-of-type {\n",
       "        vertical-align: middle;\n",
       "    }\n",
       "\n",
       "    .dataframe tbody tr th {\n",
       "        vertical-align: top;\n",
       "    }\n",
       "\n",
       "    .dataframe thead th {\n",
       "        text-align: right;\n",
       "    }\n",
       "</style>\n",
       "<table border=\"1\" class=\"dataframe\">\n",
       "  <thead>\n",
       "    <tr style=\"text-align: right;\">\n",
       "      <th></th>\n",
       "      <th>id</th>\n",
       "      <th>url</th>\n",
       "      <th>author</th>\n",
       "      <th>retweets</th>\n",
       "      <th>favorites</th>\n",
       "      <th>mentions</th>\n",
       "      <th>hashtags</th>\n",
       "      <th>geo</th>\n",
       "      <th>time</th>\n",
       "      <th>text</th>\n",
       "    </tr>\n",
       "  </thead>\n",
       "  <tbody>\n",
       "  </tbody>\n",
       "</table>\n",
       "</div>"
      ],
      "text/plain": [
       "Empty DataFrame\n",
       "Columns: [id, url, author, retweets, favorites, mentions, hashtags, geo, time, text]\n",
       "Index: []"
      ]
     },
     "execution_count": 45,
     "metadata": {},
     "output_type": "execute_result"
    }
   ],
   "source": [
    "tweets"
   ]
  },
  {
   "cell_type": "code",
   "execution_count": null,
   "metadata": {},
   "outputs": [],
   "source": []
  }
 ],
 "metadata": {
  "kernelspec": {
   "display_name": "Python 3",
   "language": "python",
   "name": "python3"
  },
  "language_info": {
   "codemirror_mode": {
    "name": "ipython",
    "version": 3
   },
   "file_extension": ".py",
   "mimetype": "text/x-python",
   "name": "python",
   "nbconvert_exporter": "python",
   "pygments_lexer": "ipython3",
   "version": "3.6.6"
  }
 },
 "nbformat": 4,
 "nbformat_minor": 4
}
