{
 "cells": [
  {
   "cell_type": "code",
   "execution_count": 1,
   "metadata": {},
   "outputs": [],
   "source": [
    "import GetOldTweets3 as got3\n",
    "import pandas as pd\n",
    "from datetime import datetime\n",
    "from dateutil.relativedelta import relativedelta\n",
    "import re\n",
    "import nltk\n",
    "import time"
   ]
  },
  {
   "cell_type": "code",
   "execution_count": 2,
   "metadata": {},
   "outputs": [],
   "source": [
    "pd.set_option('display.max_columns', None)\n",
    "pd.set_option('display.width', 350)"
   ]
  },
  {
   "cell_type": "markdown",
   "metadata": {},
   "source": [
    "I will extract top tweets for the past 10 years. 100 top tweets will be extracted each month on the specified topic for past 10 years"
   ]
  },
  {
   "cell_type": "code",
   "execution_count": 8,
   "metadata": {},
   "outputs": [],
   "source": [
    "\n",
    "def get_tweets(topic, end_date, years=13):\n",
    "    columns = ['id', 'url', 'author', 'retweets', 'favorites', 'mentions', 'hashtags', 'geo', 'time', 'text']\n",
    "    text_query = topic\n",
    "    \n",
    "    # convert the end_date string to the datetime object\n",
    "    end_date_datetime = datetime.strptime(end_date, '%Y-%m-%d')\n",
    "\n",
    "    # This section is to create a list of datetime objects that are 1 month apart going backwards\n",
    "    date_range = [end_date_datetime]\n",
    "    total_days = int(365 * years)\n",
    "    \n",
    "    prior_date = end_date_datetime\n",
    "    \n",
    "    while total_days > 0:\n",
    "        prior_date = prior_date - relativedelta(days=1)\n",
    "        date_range.append(prior_date)\n",
    "        total_days -= 1\n",
    "        \n",
    "    # Convert the elements in the list from datetime objects to string\n",
    "    date_range_string = [twitter_date.strftime('%Y-%m-%d') for twitter_date in date_range][::-1]\n",
    "    print(\"Start querying data...\")\n",
    "    \n",
    "    # Initialize an empty list to store dataframe from each iteration\n",
    "    compiled_tweets_df = pd.DataFrame(columns=columns)\n",
    "    \n",
    "    start_time = time.perf_counter()\n",
    "    for i in range(len(date_range_string)-1):\n",
    "        if i i%30==1:\n",
    "            iteration_time = time.perf_counter()\n",
    "        tweetCriteria = got3.manager\\\n",
    "                .TweetCriteria()\\\n",
    "                .setQuerySearch(text_query)\\\n",
    "                .setLang('en')\\\n",
    "                .setSince(date_range_string[i])\\\n",
    "                .setUntil(date_range_string[i+1])\\\n",
    "                .setTopTweets(True)\\\n",
    "                .setMaxTweets(10)\\\n",
    "                .setEmoji(\"unicode\")\n",
    "\n",
    "        tweets = got3.manager.TweetManager.getTweets(tweetCriteria)\n",
    "\n",
    "        text_tweets = [[tweet.id, tweet.permalink, tweet.username, tweet.retweets, \n",
    "                tweet.favorites, tweet.mentions, tweet.hashtags, tweet.geo, \n",
    "                tweet.date, tweet.text] for tweet in tweets]\n",
    "\n",
    "        sample_tweets = pd.DataFrame(text_tweets, columns=columns)\n",
    "        compiled_tweets_df = pd.concat([compiled_tweets_df, sample_tweets])\n",
    "        print(\"Query between {} and {} complete!\".format(date_range_string[i], date_range_string[i+1]))\n",
    "        print(\"Pause the operation...\")\n",
    "        time.sleep(2.5) # pause for 2.5 seconds to avoid server crashing\n",
    "        print(\"Begin new iteration...\")\n",
    "        if i!=0 and i%30==0:\n",
    "            iteration_end_time = time.perf_counter()\n",
    "            print(\"Pause time per 30 iterations: {} seconds\".format(str(round(iteration_end_time - iteration_time, 2))))\n",
    "        \n",
    "    return compiled_tweets_df # concatenate the list of dataframe into a single dataframe\n",
    "    print(\"Operation complete!\")\n",
    "    print(\"Total Runtime: {} seconds!\".format(str(round(iteration_end_time - start_time, 2))))\n",
    "    "
   ]
  },
  {
   "cell_type": "code",
   "execution_count": 9,
   "metadata": {},
   "outputs": [
    {
     "name": "stdout",
     "output_type": "stream",
     "text": [
      "Start querying data...\n",
      "Query between 2007-01-03 and 2007-01-04 complete!\n",
      "Pause the operation...\n",
      "Begin new iteration...\n",
      "Query between 2007-01-04 and 2007-01-05 complete!\n",
      "Pause the operation...\n",
      "Begin new iteration...\n",
      "Query between 2007-01-05 and 2007-01-06 complete!\n",
      "Pause the operation...\n",
      "Begin new iteration...\n",
      "Query between 2007-01-06 and 2007-01-07 complete!\n",
      "Pause the operation...\n",
      "Begin new iteration...\n",
      "Query between 2007-01-07 and 2007-01-08 complete!\n",
      "Pause the operation...\n",
      "Begin new iteration...\n",
      "Query between 2007-01-08 and 2007-01-09 complete!\n",
      "Pause the operation...\n",
      "Begin new iteration...\n",
      "Query between 2007-01-09 and 2007-01-10 complete!\n",
      "Pause the operation...\n",
      "Begin new iteration...\n",
      "Query between 2007-01-10 and 2007-01-11 complete!\n",
      "Pause the operation...\n",
      "Begin new iteration...\n",
      "Query between 2007-01-11 and 2007-01-12 complete!\n",
      "Pause the operation...\n",
      "Begin new iteration...\n",
      "Query between 2007-01-12 and 2007-01-13 complete!\n",
      "Pause the operation...\n",
      "Begin new iteration...\n",
      "Query between 2007-01-13 and 2007-01-14 complete!\n",
      "Pause the operation...\n",
      "Begin new iteration...\n",
      "Query between 2007-01-14 and 2007-01-15 complete!\n",
      "Pause the operation...\n",
      "Begin new iteration...\n",
      "Query between 2007-01-15 and 2007-01-16 complete!\n",
      "Pause the operation...\n"
     ]
    },
    {
     "ename": "KeyboardInterrupt",
     "evalue": "",
     "output_type": "error",
     "traceback": [
      "\u001b[1;31m---------------------------------------------------------------------------\u001b[0m",
      "\u001b[1;31mKeyboardInterrupt\u001b[0m                         Traceback (most recent call last)",
      "\u001b[1;32m<ipython-input-9-807f783b1747>\u001b[0m in \u001b[0;36m<module>\u001b[1;34m\u001b[0m\n\u001b[1;32m----> 1\u001b[1;33m \u001b[0mtweets\u001b[0m \u001b[1;33m=\u001b[0m \u001b[0mget_tweets\u001b[0m\u001b[1;33m(\u001b[0m\u001b[1;34m\"immigra\"\u001b[0m\u001b[1;33m,\u001b[0m \u001b[1;34m\"2019-12-31\"\u001b[0m\u001b[1;33m,\u001b[0m \u001b[1;36m13\u001b[0m\u001b[1;33m)\u001b[0m\u001b[1;33m\u001b[0m\u001b[0m\n\u001b[0m",
      "\u001b[1;32m<ipython-input-8-5b1d510dc175>\u001b[0m in \u001b[0;36mget_tweets\u001b[1;34m(topic, end_date, years)\u001b[0m\n\u001b[0;32m     47\u001b[0m         \u001b[0mprint\u001b[0m\u001b[1;33m(\u001b[0m\u001b[1;34m\"Query between {} and {} complete!\"\u001b[0m\u001b[1;33m.\u001b[0m\u001b[0mformat\u001b[0m\u001b[1;33m(\u001b[0m\u001b[0mdate_range_string\u001b[0m\u001b[1;33m[\u001b[0m\u001b[0mi\u001b[0m\u001b[1;33m]\u001b[0m\u001b[1;33m,\u001b[0m \u001b[0mdate_range_string\u001b[0m\u001b[1;33m[\u001b[0m\u001b[0mi\u001b[0m\u001b[1;33m+\u001b[0m\u001b[1;36m1\u001b[0m\u001b[1;33m]\u001b[0m\u001b[1;33m)\u001b[0m\u001b[1;33m)\u001b[0m\u001b[1;33m\u001b[0m\u001b[0m\n\u001b[0;32m     48\u001b[0m         \u001b[0mprint\u001b[0m\u001b[1;33m(\u001b[0m\u001b[1;34m\"Pause the operation...\"\u001b[0m\u001b[1;33m)\u001b[0m\u001b[1;33m\u001b[0m\u001b[0m\n\u001b[1;32m---> 49\u001b[1;33m         \u001b[0mtime\u001b[0m\u001b[1;33m.\u001b[0m\u001b[0msleep\u001b[0m\u001b[1;33m(\u001b[0m\u001b[1;36m2.5\u001b[0m\u001b[1;33m)\u001b[0m \u001b[1;31m# pause for 2.5 seconds to avoid server crashing\u001b[0m\u001b[1;33m\u001b[0m\u001b[0m\n\u001b[0m\u001b[0;32m     50\u001b[0m         \u001b[0mprint\u001b[0m\u001b[1;33m(\u001b[0m\u001b[1;34m\"Begin new iteration...\"\u001b[0m\u001b[1;33m)\u001b[0m\u001b[1;33m\u001b[0m\u001b[0m\n\u001b[0;32m     51\u001b[0m         \u001b[1;32mif\u001b[0m \u001b[0mi\u001b[0m\u001b[1;33m!=\u001b[0m\u001b[1;36m0\u001b[0m \u001b[1;32mand\u001b[0m \u001b[0mi\u001b[0m\u001b[1;33m%\u001b[0m\u001b[1;36m30\u001b[0m\u001b[1;33m==\u001b[0m\u001b[1;36m0\u001b[0m\u001b[1;33m:\u001b[0m\u001b[1;33m\u001b[0m\u001b[0m\n",
      "\u001b[1;31mKeyboardInterrupt\u001b[0m: "
     ]
    }
   ],
   "source": [
    "tweets = get_tweets(\"immigra\", \"2019-12-31\", 13)"
   ]
  },
  {
   "cell_type": "code",
   "execution_count": null,
   "metadata": {},
   "outputs": [],
   "source": [
    "tweets[\"text\"][0]"
   ]
  },
  {
   "cell_type": "code",
   "execution_count": null,
   "metadata": {},
   "outputs": [],
   "source": [
    "tweets.index = range(len(tweets))"
   ]
  },
  {
   "cell_type": "code",
   "execution_count": null,
   "metadata": {},
   "outputs": [],
   "source": [
    "tweets[\"text\"][3]"
   ]
  },
  {
   "cell_type": "code",
   "execution_count": null,
   "metadata": {},
   "outputs": [],
   "source": [
    "def clean_text(text):\n",
    "    text = re.sub(r'http\\S+', '', text) # remove url\n",
    "    text = text.lower() # convert text to lower case\n",
    "    text = re.sub(r'[^\\x00-\\x7F]+',' ', text) # replace the non-ASCII characters with space\n",
    "    text = text.split()\n",
    "    text = [i for i in text if not i.startswith(\"#\")]\n",
    "    text = ' '.join(text)\n",
    "    text = re.sub(r'[^\\w\\s]', '', text) # remove punctuations\n",
    "\n",
    "    return text\n",
    "    "
   ]
  },
  {
   "cell_type": "code",
   "execution_count": null,
   "metadata": {},
   "outputs": [],
   "source": [
    "tweets[\"text\"] = tweets[\"text\"].apply(clean_text)"
   ]
  },
  {
   "cell_type": "code",
   "execution_count": null,
   "metadata": {},
   "outputs": [],
   "source": [
    "tweets[\"time\"] = pd.to_datetime(tweets[\"time\"])"
   ]
  },
  {
   "cell_type": "code",
   "execution_count": null,
   "metadata": {},
   "outputs": [],
   "source": [
    "tweets.head()"
   ]
  },
  {
   "cell_type": "code",
   "execution_count": null,
   "metadata": {},
   "outputs": [],
   "source": [
    "tweets[\"time\"] = tweets[\"time\"].dt.tz_localize(None)"
   ]
  },
  {
   "cell_type": "code",
   "execution_count": null,
   "metadata": {},
   "outputs": [],
   "source": [
    "tweets.to_excel(\"immigration_tweets_13_years.xlsx\")"
   ]
  },
  {
   "cell_type": "code",
   "execution_count": null,
   "metadata": {},
   "outputs": [],
   "source": [
    "# tweets.to_csv(\"immigration_tweets_data_example.csv\")"
   ]
  },
  {
   "cell_type": "code",
   "execution_count": null,
   "metadata": {},
   "outputs": [],
   "source": []
  }
 ],
 "metadata": {
  "kernelspec": {
   "display_name": "Python 3",
   "language": "python",
   "name": "python3"
  },
  "language_info": {
   "codemirror_mode": {
    "name": "ipython",
    "version": 3
   },
   "file_extension": ".py",
   "mimetype": "text/x-python",
   "name": "python",
   "nbconvert_exporter": "python",
   "pygments_lexer": "ipython3",
   "version": "3.6.6"
  }
 },
 "nbformat": 4,
 "nbformat_minor": 4
}
