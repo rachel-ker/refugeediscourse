{
 "cells": [
  {
   "cell_type": "markdown",
   "metadata": {},
   "source": [
    "# Sample Functions for Analysis"
   ]
  },
  {
   "cell_type": "code",
   "execution_count": 1,
   "metadata": {},
   "outputs": [],
   "source": [
    "import lucem_illud_2020\n",
    "import pandas as pd"
   ]
  },
  {
   "cell_type": "markdown",
   "metadata": {},
   "source": [
    "## Preparations"
   ]
  },
  {
   "cell_type": "code",
   "execution_count": 33,
   "metadata": {},
   "outputs": [],
   "source": [
    "# load data\n",
    "rename_dict = {'id': 'text_id',\n",
    "               'word_counts': 'word_count',\n",
    "               'author': 'source',\n",
    "              }\n",
    "\n",
    "filepath=\"/Users/rachelker/Documents/UChic MSCAPP/Curriculum/2019-20 Winter/Computational Content Analysis/Project/twitterpolicydiscourse/data/\"\n",
    "coca_data = pd.read_csv(filepath + \"refugee_coca_foranalysis.csv\").drop(columns=['subgen'])\n",
    "tweet_data = pd.read_csv(filepath + \"twitter_data_to_concat.csv\").drop(columns=['Unnamed: 0']).rename(columns=rename_dict)"
   ]
  },
  {
   "cell_type": "code",
   "execution_count": 34,
   "metadata": {},
   "outputs": [
    {
     "name": "stdout",
     "output_type": "stream",
     "text": [
      "48993 48993\n"
     ]
    }
   ],
   "source": [
    "# to concatenate coca and tweet data\n",
    "data = pd.concat([coca_data, tweet_data], ignore_index=True)\n",
    "print(len(data['text_id'].unique()), len(data)) #check that id is unique"
   ]
  },
  {
   "cell_type": "code",
   "execution_count": 35,
   "metadata": {},
   "outputs": [],
   "source": [
    "# tokenize and normalize words\n",
    "data['tokenized_words'] = data['text'].apply(lambda x: lucem_illud_2020.word_tokenize(x))\n",
    "data['normalized_words'] = data['tokenized_words'].apply(lambda x: lucem_illud_2020.normalizeTokens(x))\n",
    "data['normalized_words_POS'] = [lucem_illud_2020.spacy_pos(t) for t in data['text']]\n",
    "\n",
    "\n",
    "# tokenize and normalize sentences\n",
    "data['tokenized_sents'] = data['text'].apply(lambda x: [lucem_illud_2020.word_tokenize(s) for s in lucem_illud_2020.sent_tokenize(x)])\n",
    "data['normalized_sents'] = data['tokenized_sents'].apply(lambda x: [lucem_illud_2020.normalizeTokens(s) for s in x])"
   ]
  },
  {
   "cell_type": "code",
   "execution_count": 43,
   "metadata": {},
   "outputs": [],
   "source": [
    "#pickle data because saving to csv does not return list type\n",
    "data.to_pickle(\"data/data_normalized.pkl\")"
   ]
  }
 ],
 "metadata": {
  "kernelspec": {
   "display_name": "Python 3.8.1",
   "language": "python",
   "name": "3.8.1"
  },
  "language_info": {
   "codemirror_mode": {
    "name": "ipython",
    "version": 3
   },
   "file_extension": ".py",
   "mimetype": "text/x-python",
   "name": "python",
   "nbconvert_exporter": "python",
   "pygments_lexer": "ipython3",
   "version": "3.8.1"
  }
 },
 "nbformat": 4,
 "nbformat_minor": 4
}
