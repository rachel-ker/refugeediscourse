{
 "cells": [
  {
   "cell_type": "markdown",
   "metadata": {},
   "source": [
    "## BERT Sentiment Analysis"
   ]
  },
  {
   "cell_type": "code",
   "execution_count": 11,
   "metadata": {},
   "outputs": [],
   "source": [
    "import pandas as pd\n",
    "import spacy\n",
    "from transformers import pipeline\n",
    "import re"
   ]
  },
  {
   "cell_type": "code",
   "execution_count": 12,
   "metadata": {},
   "outputs": [],
   "source": [
    "data = pd.read_csv(\"data/refugee_coca_foranalysis.csv\")"
   ]
  },
  {
   "cell_type": "code",
   "execution_count": 13,
   "metadata": {},
   "outputs": [],
   "source": [
    "try:\n",
    "    nlp = spacy.load(\"en\")\n",
    "except OSError:\n",
    "    nlp = spacy.load(\"en_core_web_sm\")\n",
    "\n",
    "def sent_tokenize(word_list, model=nlp):\n",
    "    doc = model(word_list)\n",
    "    sentences = [sent.string.strip() for sent in doc.sents]\n",
    "    return sentences"
   ]
  },
  {
   "cell_type": "code",
   "execution_count": null,
   "metadata": {},
   "outputs": [],
   "source": [
    "data['sentences'] = data['text'].apply(sent_tokenize)"
   ]
  },
  {
   "cell_type": "code",
   "execution_count": null,
   "metadata": {},
   "outputs": [],
   "source": [
    "#5-year periods\n",
    "def get_period(year, startyr, endyr, n=5):\n",
    "    period_start = []\n",
    "    for i in range(startyr, endyr+1, n):\n",
    "        period_start.append(i)\n",
    "    for index, p in enumerate(period_start):\n",
    "        if year >= p:\n",
    "            period = index\n",
    "            continue\n",
    "        else:\n",
    "            break\n",
    "    return period  \n",
    "    \n",
    "data['period'] = data['year'].apply(lambda x: get_period(x, 1991, 2015, n=5) if x>=1991 else 0)"
   ]
  },
  {
   "cell_type": "code",
   "execution_count": null,
   "metadata": {},
   "outputs": [],
   "source": [
    "# Write a function that let us conveniently label ideology: Left, Neutral, Right\n",
    "media_ideology = {}\n",
    "\n",
    "def label_ideology(media_title, ideology, media_ideology = media_ideology):\n",
    "    media_ideology[media_title] = ideology\n",
    "    \n",
    "label_ideology('Money', 'Neutral')\n",
    "label_ideology('MotherEarth', 'Neutral')\n",
    "label_ideology('MotherJones', 'Left')\n",
    "label_ideology('AmHeritage', 'Neutral')\n",
    "label_ideology('AmSpect', 'Right')\n",
    "label_ideology('Forbes', 'Right')\n",
    "label_ideology('NatlReview', 'Right')\n",
    "label_ideology('Newsweek', 'Left')\n",
    "label_ideology('ScienceNews', 'Neutral')\n",
    "label_ideology('Smithsonian', 'Neutral')\n",
    "label_ideology('USNWR', 'Left')\n",
    "label_ideology('WashMonth', 'Left')\n",
    "label_ideology('ChangingTimes', 'Right')\n",
    "label_ideology('HistoryToday', 'Neutral')\n",
    "label_ideology('Omni', 'Neutral')\n",
    "label_ideology('Wilderness', 'Neutral')\n",
    "label_ideology('TIME', 'Left')\n",
    "label_ideology('NatlParks', 'Neutral')\n",
    "label_ideology('AmerArtist', 'Neutral')\n",
    "label_ideology('RollingStone', 'Left')\n",
    "label_ideology('Americas', 'Neutral')\n",
    "label_ideology('SportsIll', 'Neutral')\n",
    "label_ideology('Ms', 'Left')\n",
    "label_ideology('PopScience', 'Neutral')\n",
    "label_ideology('Futurist', 'Neutral')\n",
    "label_ideology('HarpersMag', 'Left')\n",
    "label_ideology('Fortune', 'Right')\n",
    "label_ideology('USAToday', 'Left')\n",
    "label_ideology('America', 'Left')\n",
    "label_ideology('ChristCentury', 'Right')\n",
    "label_ideology('People', 'Left')\n",
    "label_ideology('Jet', 'Left')\n",
    "label_ideology('Aging', 'Neutral')\n",
    "label_ideology('Horticulture', 'Neutral')\n",
    "label_ideology('NewRepublic', 'Left')\n",
    "label_ideology('Conservation', 'Left')\n",
    "label_ideology('NaturalHist', 'Neutral')\n",
    "label_ideology('Atlantic', 'Left')\n",
    "label_ideology('Inc.', 'Neutral')\n",
    "label_ideology('ChildrenToday', 'Neutral')\n",
    "label_ideology('Ebony', 'Left')\n",
    "label_ideology('ConsumResrch', 'Neutral')\n",
    "label_ideology('SatEvenPost', 'Neutral')\n",
    "label_ideology('ChristToday', 'Right')\n",
    "label_ideology('Backpacker', 'Neutral')\n",
    "label_ideology('AmericanCraft', 'Neutral')\n",
    "label_ideology('ArtAmerica', 'Neutral')\n",
    "label_ideology('SportingNews', 'Neutral')\n",
    "label_ideology('MensHealth', 'Neutral')\n",
    "label_ideology('Antiques', 'Neutral')\n",
    "label_ideology('Parenting', 'Neutral')\n",
    "label_ideology('Essence', 'Neutral')\n",
    "label_ideology('Environmental', 'Neutral')\n",
    "label_ideology('USCatholic', 'Right')\n",
    "label_ideology('MilitaryHist', 'Neutral')\n",
    "label_ideology('PsychToday', 'Neutral')\n",
    "label_ideology('Cosmopolitan', 'Left')\n",
    "label_ideology('Redbook', 'Neutral')\n",
    "label_ideology('Bazaar', 'Left')\n",
    "label_ideology('ChildDigest', 'Neutral')\n",
    "label_ideology('Bicycling', 'Neutral')\n",
    "label_ideology('Shape', 'Neutral')\n",
    "label_ideology('NatGeog', 'Neutral')\n",
    "label_ideology('Entertainment', 'Neutral')\n",
    "label_ideology('Astronomy', 'Neutral')\n",
    "label_ideology('TownCountry', 'Neutral')\n",
    "label_ideology('TotalHealth', 'Neutral')\n",
    "label_ideology('Esquire', 'Left')\n",
    "label_ideology('FieldStream', 'Neutral')\n",
    "label_ideology('TechReview', 'Neutral')\n",
    "label_ideology('CountryLiving', 'Neutral')\n",
    "label_ideology('VegTimes', 'Neutral')\n",
    "label_ideology('SouthernLiv', 'Neutral')\n",
    "label_ideology('Skiing', 'Neutral')\n",
    "label_ideology('ConsumRep', 'Neutral')\n",
    "label_ideology('Sunset', 'Neutral')\n",
    "label_ideology('HarpersBazaar', 'Neutral')\n",
    "label_ideology('AmericanSpectator', 'Right')\n",
    "label_ideology('GoodHousekeeping', 'Neutral')\n",
    "label_ideology('PopMech', 'Neutral')\n",
    "label_ideology('MHQTheQuarterly', 'Neutral')\n",
    "label_ideology('TodaysParent', 'Neutral')\n",
    "label_ideology('NationalGeographic', 'Neutral')\n",
    "label_ideology('EEnvironmental', 'Neutral')\n",
    "label_ideology('ParentingEarly', 'Neutral')\n",
    "label_ideology('ABC', 'Left')\n",
    "label_ideology('CNN', 'Left')\n",
    "label_ideology('PBS', 'Left')\n",
    "label_ideology('CBS', 'Left')\n",
    "label_ideology('Ind', 'Left')\n",
    "label_ideology('NPR', 'Left')\n",
    "label_ideology('NBC', 'Left')\n",
    "label_ideology('Fox', 'Right')\n",
    "label_ideology('MSNBC', 'Left')\n",
    "label_ideology('NYTimes', 'Left')\n",
    "label_ideology('CSMonitor', 'Neutral')\n",
    "label_ideology('AssocPress', 'Neutral')\n",
    "label_ideology('WashPost', 'Left')\n",
    "label_ideology('SanFranChron', 'Left')\n",
    "label_ideology('Atlanta', 'Left') #Atlanta Journal Constitution\n",
    "label_ideology('Houston', 'Left') #Houston Chronicle\n",
    "label_ideology('Chicago', 'Left') #Chicago Sun-Times\n",
    "label_ideology('Denver', 'Left') #Denver Post\n",
    "label_ideology('GolfMag', 'Neutral')\n",
    "label_ideology('NewStatesman', 'Left')\n",
    "label_ideology('Austin', 'Left') #Austin American Statesman\n",
    "label_ideology('STLouis', 'Left') #St Louis Post_Dispatch\n",
    "label_ideology('Pittsburgh', 'Right') #Pittsburgh Post-Gazette\n",
    "label_ideology('OrangeCR', 'Right') #Orange County Register\n",
    "\n",
    "#add political leaning label\n",
    "def add_ideology(x, media_ideology=media_ideology):\n",
    "    try_split = re.split(\"_|: | \",x)\n",
    "    if len(try_split)>1:\n",
    "        x = try_split[0]\n",
    "    if x in media_ideology:\n",
    "        return media_ideology[x]\n",
    "    else:\n",
    "        print('{} does not exists'.format(x))\n",
    "\n",
    "data[\"ideology\"] = data['source'].apply(add_ideology)"
   ]
  },
  {
   "cell_type": "code",
   "execution_count": null,
   "metadata": {},
   "outputs": [],
   "source": [
    "data.head()"
   ]
  },
  {
   "cell_type": "code",
   "execution_count": null,
   "metadata": {},
   "outputs": [],
   "source": [
    "# Allocate a pipeline for sentiment-analysis\n",
    "nlp_sentiment = pipeline('sentiment-analysis')"
   ]
  },
  {
   "cell_type": "code",
   "execution_count": null,
   "metadata": {},
   "outputs": [],
   "source": [
    "periods = data.period.unique()\n",
    "\n",
    "sentences = {}\n",
    "sentiment_over_period = {}\n",
    "sentiment_scores = []\n",
    "for i in ['Left', 'Right']:\n",
    "    for p in periods:\n",
    "        data_period = data[(data['period'] == p) & (data['ideology']==i)]\n",
    "        for sent in data_period['sentences'].sum():\n",
    "            if 'refugee' in sent: \n",
    "                if '{}_{}'.format(p,ideology) not in sentences:\n",
    "                    sentences['{}_{}'.format(p,ideology)] = []\n",
    "                sentences['{}_{}'.format(p,ideology)].append(sent)\n",
    "                sentiment = nlp_sentiment(sent)\n",
    "                polarity = sentiment[0]['label']\n",
    "                score = sentiment[0]['score']\n",
    "\n",
    "                if polarity=='NEGATIVE':\n",
    "                    score = -score\n",
    "\n",
    "                sentiment_scores.append(score)\n",
    "        avg = sum(sentiment_scores) / len(sentiment_scores)\n",
    "        sentiment_over_period['{}_{}'.format(p,ideology)] = avg"
   ]
  },
  {
   "cell_type": "code",
   "execution_count": null,
   "metadata": {},
   "outputs": [],
   "source": [
    "sentences[1]"
   ]
  },
  {
   "cell_type": "code",
   "execution_count": null,
   "metadata": {},
   "outputs": [],
   "source": [
    "sentiment_over_period"
   ]
  },
  {
   "cell_type": "markdown",
   "metadata": {},
   "source": [
    "## BERT Text Generation"
   ]
  },
  {
   "cell_type": "code",
   "execution_count": null,
   "metadata": {},
   "outputs": [],
   "source": [
    "from transformers import AutoModelWithLMHead, AutoTokenizer"
   ]
  },
  {
   "cell_type": "code",
   "execution_count": null,
   "metadata": {},
   "outputs": [],
   "source": [
    "def textgen_results(sequence):\n",
    "    refugees_textgen = {}\n",
    "    tokenizer_gpt = AutoTokenizer.from_pretrained(\"gpt2\")\n",
    "    model_gpt = AutoModelWithLMHead.from_pretrained(\"gpt2\")\n",
    "\n",
    "    input = tokenizer_gpt.encode(sequence, return_tensors=\"pt\")\n",
    "    generated = model_gpt.generate(input, max_length=50)\n",
    "    resulting_string = tokenizer_gpt.decode(generated.tolist()[0])\n",
    "    refugees_textgen['gpt'] = resulting_string\n",
    "\n",
    "    for ideology in ['left','right']:\n",
    "        tokenizer = AutoTokenizer.from_pretrained(\"bertresults/output_gpt_{}\".format(ideology))\n",
    "        model = AutoModelWithLMHead.from_pretrained(\"bertresults/output_gpt_{}\".format(ideology))\n",
    "\n",
    "        input = tokenizer.encode(sequence, return_tensors=\"pt\")\n",
    "        generated = model.generate(input, max_length=50, bos_token_id=1, pad_token_id=1, eos_token_ids=1)\n",
    "        resulting_string = tokenizer.decode(generated.tolist()[0])\n",
    "        refugees_textgen['all_{}'.format(ideology)] = resulting_string\n",
    "        \n",
    "        for period in range(0,5):\n",
    "            tokenizer = AutoTokenizer.from_pretrained(\"bertresults/output_gpt_period{}_{}\".format(period, ideology))\n",
    "            model = AutoModelWithLMHead.from_pretrained(\"bertresults/output_gpt_period{}_{}\".format(period, ideology))\n",
    "\n",
    "            input = tokenizer.encode(sequence, return_tensors=\"pt\")\n",
    "            generated = model.generate(input, max_length=50, bos_token_id=1, pad_token_id=1, eos_token_ids=1)\n",
    "            resulting_string = tokenizer.decode(generated.tolist()[0])\n",
    "\n",
    "            refugees_textgen['period{}_{}'.format(period, ideology)] = resulting_string\n",
    "    return refugees_textgen"
   ]
  },
  {
   "cell_type": "code",
   "execution_count": null,
   "metadata": {},
   "outputs": [],
   "source": [
    "refugees_textgen = textgen_results(\"Refugees are\")\n",
    "refugees_textgen"
   ]
  },
  {
   "cell_type": "code",
   "execution_count": null,
   "metadata": {},
   "outputs": [],
   "source": [
    "textgen_results(\"Israeli refugees are\")"
   ]
  },
  {
   "cell_type": "code",
   "execution_count": null,
   "metadata": {},
   "outputs": [],
   "source": [
    "textgen_results(\"Syrian refugees are\")"
   ]
  },
  {
   "cell_type": "code",
   "execution_count": null,
   "metadata": {},
   "outputs": [],
   "source": []
  }
 ],
 "metadata": {
  "kernelspec": {
   "display_name": "Python 3.7 with Pytorch",
   "language": "python",
   "name": "cca-pytorch"
  },
  "language_info": {
   "codemirror_mode": {
    "name": "ipython",
    "version": 3
   },
   "file_extension": ".py",
   "mimetype": "text/x-python",
   "name": "python",
   "nbconvert_exporter": "python",
   "pygments_lexer": "ipython3",
   "version": "3.7.0"
  }
 },
 "nbformat": 4,
 "nbformat_minor": 4
}
