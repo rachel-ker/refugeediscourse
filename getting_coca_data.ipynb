{
 "cells": [
  {
   "cell_type": "markdown",
   "metadata": {},
   "source": [
    "# Getting data from COCA corpus"
   ]
  },
  {
   "cell_type": "code",
   "execution_count": 1,
   "metadata": {},
   "outputs": [],
   "source": [
    "import pandas as pd\n",
    "import zipfile\n",
    "import re\n",
    "import os\n",
    "import matplotlib\n",
    "import matplotlib.pyplot as plt "
   ]
  },
  {
   "cell_type": "code",
   "execution_count": 2,
   "metadata": {},
   "outputs": [
    {
     "data": {
      "text/plain": [
       "'/Users/rachelker/Documents/UChic MSCAPP/Curriculum/2019-20 Winter/Computational Content Analysis/Project/Data/Davies Corpora/COCA/'"
      ]
     },
     "execution_count": 2,
     "metadata": {},
     "output_type": "execute_result"
    }
   ],
   "source": [
    "# set filepath\n",
    "COCA = \"/Users/rachelker/Documents/UChic MSCAPP/Curriculum/2019-20 Winter/Computational Content Analysis/Project/Data/Davies Corpora/COCA/\"\n",
    "COCA"
   ]
  },
  {
   "cell_type": "markdown",
   "metadata": {},
   "source": [
    "## Getting texts"
   ]
  },
  {
   "cell_type": "code",
   "execution_count": 3,
   "metadata": {},
   "outputs": [],
   "source": [
    "def get_data(corpus, topic_filter):    \n",
    "    # get all text\n",
    "    data = load_corpus(corpus)    \n",
    "    all_news = []\n",
    "    [all_news.extend(data[k]) for k in data.keys()]\n",
    "        \n",
    "    # load into dataframe\n",
    "    df = pd.DataFrame(all_news, columns=['text'])\n",
    "    df['text'] = df.apply(lambda x: x['text'].decode('utf-8', errors='ignore'), axis=1) \n",
    "    df = df[df['text']!='\\r\\n']\n",
    "    df = df[df['text'].str.contains(topic_filter)]\n",
    "\n",
    "    # get text_ids\n",
    "    df['text_id'] = df.apply(lambda x: get_textid(x), axis=1)\n",
    "    df.set_index('text_id', inplace=True)\n",
    "    return df\n",
    "\n",
    "def get_textid(row):\n",
    "        text = row['text']\n",
    "        text_id = re.search('(?<=##|@@)[0-9]+', text)\n",
    "        return str(text_id.group(0))\n",
    "    \n",
    "def load_corpus(corpus):\n",
    "    data = {}\n",
    "    for zip_ in os.listdir(corpus):\n",
    "        if \"zip\" in zip_ and \"sources\" not in zip_:\n",
    "            try:\n",
    "                zfile = zipfile.ZipFile(corpus + zip_)\n",
    "                for file in zfile.namelist():\n",
    "                    data[file] = []\n",
    "                    with zfile.open(file) as f:\n",
    "                        for line in f:\n",
    "                            data[file].append(line)\n",
    "            except:\n",
    "                print(zip_, \" \")\n",
    "                continue\n",
    "\n",
    "    return data"
   ]
  },
  {
   "cell_type": "code",
   "execution_count": 4,
   "metadata": {},
   "outputs": [],
   "source": [
    "df = get_data(COCA, '')\n",
    "# total of 219,379 articles"
   ]
  },
  {
   "cell_type": "code",
   "execution_count": 5,
   "metadata": {},
   "outputs": [],
   "source": [
    "refugee_df = get_data(COCA, 'refugee')"
   ]
  },
  {
   "cell_type": "code",
   "execution_count": 6,
   "metadata": {},
   "outputs": [
    {
     "data": {
      "text/html": [
       "<div>\n",
       "<style scoped>\n",
       "    .dataframe tbody tr th:only-of-type {\n",
       "        vertical-align: middle;\n",
       "    }\n",
       "\n",
       "    .dataframe tbody tr th {\n",
       "        vertical-align: top;\n",
       "    }\n",
       "\n",
       "    .dataframe thead th {\n",
       "        text-align: right;\n",
       "    }\n",
       "</style>\n",
       "<table border=\"1\" class=\"dataframe\">\n",
       "  <thead>\n",
       "    <tr style=\"text-align: right;\">\n",
       "      <th></th>\n",
       "      <th>text</th>\n",
       "    </tr>\n",
       "    <tr>\n",
       "      <th>text_id</th>\n",
       "      <th></th>\n",
       "    </tr>\n",
       "  </thead>\n",
       "  <tbody>\n",
       "    <tr>\n",
       "      <th>2018849</th>\n",
       "      <td>##2018849 &lt;p&gt; \" Bums . \" That 's what Radio Ha...</td>\n",
       "    </tr>\n",
       "    <tr>\n",
       "      <th>2018850</th>\n",
       "      <td>##2018850 Section : INVESTING &lt;p&gt; Expanding pe...</td>\n",
       "    </tr>\n",
       "    <tr>\n",
       "      <th>2019006</th>\n",
       "      <td>##2019006 Section : CLOTHES THAT WORK American...</td>\n",
       "    </tr>\n",
       "    <tr>\n",
       "      <th>2019061</th>\n",
       "      <td>##2019061 Section : MOVEMENTS From socialist t...</td>\n",
       "    </tr>\n",
       "    <tr>\n",
       "      <th>2019063</th>\n",
       "      <td>##2019063 &lt;p&gt; INSIDE A DUSTY CEMENT-BLOCK HOUS...</td>\n",
       "    </tr>\n",
       "    <tr>\n",
       "      <th>...</th>\n",
       "      <td>...</td>\n",
       "    </tr>\n",
       "    <tr>\n",
       "      <th>4162833</th>\n",
       "      <td>@@4162833 O o . Here I am with this American b...</td>\n",
       "    </tr>\n",
       "    <tr>\n",
       "      <th>4162845</th>\n",
       "      <td>@@4162845 ATRICK IS FOURTEEN , this is earth ,...</td>\n",
       "    </tr>\n",
       "    <tr>\n",
       "      <th>4162876</th>\n",
       "      <td>@@4162876 Any future lists of colorful Texas c...</td>\n",
       "    </tr>\n",
       "    <tr>\n",
       "      <th>4163095</th>\n",
       "      <td>@@4163095 first met Sulayman in a play at the ...</td>\n",
       "    </tr>\n",
       "    <tr>\n",
       "      <th>4163113</th>\n",
       "      <td>@@4163113 Father always said he 'd truly under...</td>\n",
       "    </tr>\n",
       "  </tbody>\n",
       "</table>\n",
       "<p>5258 rows × 1 columns</p>\n",
       "</div>"
      ],
      "text/plain": [
       "                                                      text\n",
       "text_id                                                   \n",
       "2018849  ##2018849 <p> \" Bums . \" That 's what Radio Ha...\n",
       "2018850  ##2018850 Section : INVESTING <p> Expanding pe...\n",
       "2019006  ##2019006 Section : CLOTHES THAT WORK American...\n",
       "2019061  ##2019061 Section : MOVEMENTS From socialist t...\n",
       "2019063  ##2019063 <p> INSIDE A DUSTY CEMENT-BLOCK HOUS...\n",
       "...                                                    ...\n",
       "4162833  @@4162833 O o . Here I am with this American b...\n",
       "4162845  @@4162845 ATRICK IS FOURTEEN , this is earth ,...\n",
       "4162876  @@4162876 Any future lists of colorful Texas c...\n",
       "4163095  @@4163095 first met Sulayman in a play at the ...\n",
       "4163113  @@4163113 Father always said he 'd truly under...\n",
       "\n",
       "[5258 rows x 1 columns]"
      ]
     },
     "execution_count": 6,
     "metadata": {},
     "output_type": "execute_result"
    }
   ],
   "source": [
    "refugee_df\n",
    "# 5,258"
   ]
  },
  {
   "cell_type": "markdown",
   "metadata": {},
   "source": [
    "## Getting metadata"
   ]
  },
  {
   "cell_type": "code",
   "execution_count": 7,
   "metadata": {},
   "outputs": [],
   "source": [
    "def get_sources():\n",
    "    cols = ['text_id', 'word_count', 'year', 'genre', 'subgen', 'source', 'title', 'publication_info']\n",
    "\n",
    "    zfile = zipfile.ZipFile(COCA + \"sources.zip\")\n",
    "    source = []\n",
    "    for file in zfile.namelist():\n",
    "        with zfile.open(file) as f:\n",
    "            i=0\n",
    "            for line in f:\n",
    "                if i<=1:\n",
    "                    # skip first 2 lines\n",
    "                    print(line)\n",
    "                    i+=1\n",
    "                    continue\n",
    "               \n",
    "                line = line.decode('utf-8', errors='ignore').split(\"\\t\", 7)\n",
    "                if len(line)>4:\n",
    "                    source.append(line)\n",
    "    \n",
    "    sources_df = pd.DataFrame(source, columns=cols)\n",
    "    sources_df.set_index('text_id', inplace=True)\n",
    "    return sources_df"
   ]
  },
  {
   "cell_type": "code",
   "execution_count": 8,
   "metadata": {},
   "outputs": [
    {
     "name": "stdout",
     "output_type": "stream",
     "text": [
      "b'textID\\t#words\\tyear\\tgenre\\tsubgen\\tsource\\ttitle\\t\\t(publication info, for non-spoken)\\r\\n'\n",
      "b'----\\t----\\t----\\t----\\t----\\t----\\t----\\r\\n'\n"
     ]
    }
   ],
   "source": [
    "sources_df = get_sources()"
   ]
  },
  {
   "cell_type": "code",
   "execution_count": 9,
   "metadata": {},
   "outputs": [
    {
     "data": {
      "text/html": [
       "<div>\n",
       "<style scoped>\n",
       "    .dataframe tbody tr th:only-of-type {\n",
       "        vertical-align: middle;\n",
       "    }\n",
       "\n",
       "    .dataframe tbody tr th {\n",
       "        vertical-align: top;\n",
       "    }\n",
       "\n",
       "    .dataframe thead th {\n",
       "        text-align: right;\n",
       "    }\n",
       "</style>\n",
       "<table border=\"1\" class=\"dataframe\">\n",
       "  <thead>\n",
       "    <tr style=\"text-align: right;\">\n",
       "      <th></th>\n",
       "      <th>word_count</th>\n",
       "      <th>year</th>\n",
       "      <th>genre</th>\n",
       "      <th>subgen</th>\n",
       "      <th>source</th>\n",
       "      <th>title</th>\n",
       "      <th>publication_info</th>\n",
       "    </tr>\n",
       "    <tr>\n",
       "      <th>text_id</th>\n",
       "      <th></th>\n",
       "      <th></th>\n",
       "      <th></th>\n",
       "      <th></th>\n",
       "      <th></th>\n",
       "      <th></th>\n",
       "      <th></th>\n",
       "    </tr>\n",
       "  </thead>\n",
       "  <tbody>\n",
       "    <tr>\n",
       "      <th>221118</th>\n",
       "      <td>8101</td>\n",
       "      <td>1990</td>\n",
       "      <td>SPOK</td>\n",
       "      <td>101</td>\n",
       "      <td>ABC_20/20</td>\n",
       "      <td>Is He a Killer?; Who Will Love My Pet?; The Tw...</td>\n",
       "      <td>None</td>\n",
       "    </tr>\n",
       "    <tr>\n",
       "      <th>221119</th>\n",
       "      <td>8358</td>\n",
       "      <td>1990</td>\n",
       "      <td>SPOK</td>\n",
       "      <td>101</td>\n",
       "      <td>ABC_20/20</td>\n",
       "      <td>Golden Years Behind Bars; The Joker; Goodbye W...</td>\n",
       "      <td>None</td>\n",
       "    </tr>\n",
       "    <tr>\n",
       "      <th>221120</th>\n",
       "      <td>7824</td>\n",
       "      <td>1990</td>\n",
       "      <td>SPOK</td>\n",
       "      <td>101</td>\n",
       "      <td>ABC_20/20</td>\n",
       "      <td>Too Old Too Soon; Danger on the Half Shell; Mi...</td>\n",
       "      <td>None</td>\n",
       "    </tr>\n",
       "    <tr>\n",
       "      <th>221121</th>\n",
       "      <td>8559</td>\n",
       "      <td>1990</td>\n",
       "      <td>SPOK</td>\n",
       "      <td>101</td>\n",
       "      <td>ABC_20/20</td>\n",
       "      <td>Chicken at Any Price?; The Daytop Solution; Su...</td>\n",
       "      <td>None</td>\n",
       "    </tr>\n",
       "    <tr>\n",
       "      <th>221122</th>\n",
       "      <td>8199</td>\n",
       "      <td>1990</td>\n",
       "      <td>SPOK</td>\n",
       "      <td>101</td>\n",
       "      <td>ABC_20/20</td>\n",
       "      <td>Children of Terror; Against All Odds; Buck Fev...</td>\n",
       "      <td>None</td>\n",
       "    </tr>\n",
       "    <tr>\n",
       "      <th>...</th>\n",
       "      <td>...</td>\n",
       "      <td>...</td>\n",
       "      <td>...</td>\n",
       "      <td>...</td>\n",
       "      <td>...</td>\n",
       "      <td>...</td>\n",
       "      <td>...</td>\n",
       "    </tr>\n",
       "    <tr>\n",
       "      <th>4174366</th>\n",
       "      <td>993</td>\n",
       "      <td>2017</td>\n",
       "      <td>ACAD</td>\n",
       "      <td>NULL</td>\n",
       "      <td>Inside Higher Ed</td>\n",
       "      <td>Study details tool to help professors measure ...</td>\n",
       "      <td>None</td>\n",
       "    </tr>\n",
       "    <tr>\n",
       "      <th>4174367</th>\n",
       "      <td>2393</td>\n",
       "      <td>2017</td>\n",
       "      <td>ACAD</td>\n",
       "      <td>NULL</td>\n",
       "      <td>Diverse: Issues in Higher Education</td>\n",
       "      <td>Experts: Colleges' Media Messages Need Diverse...</td>\n",
       "      <td>None</td>\n",
       "    </tr>\n",
       "    <tr>\n",
       "      <th>4174368</th>\n",
       "      <td>1034</td>\n",
       "      <td>2017</td>\n",
       "      <td>ACAD</td>\n",
       "      <td>NULL</td>\n",
       "      <td>Inside Higher Ed</td>\n",
       "      <td>Another Year on the Academic Job Market\\r\\n</td>\n",
       "      <td>None</td>\n",
       "    </tr>\n",
       "    <tr>\n",
       "      <th>4174369</th>\n",
       "      <td>2132</td>\n",
       "      <td>2017</td>\n",
       "      <td>ACAD</td>\n",
       "      <td>NULL</td>\n",
       "      <td>Diverse: Issues in Higher Education</td>\n",
       "      <td>Kentucky Supreme Court Rules University of Lou...</td>\n",
       "      <td>None</td>\n",
       "    </tr>\n",
       "    <tr>\n",
       "      <th>4174370</th>\n",
       "      <td>1724</td>\n",
       "      <td>2017</td>\n",
       "      <td>ACAD</td>\n",
       "      <td>NULL</td>\n",
       "      <td>Chronicle of Higher Education (subscription)</td>\n",
       "      <td>Meet the Math Professor Who's Fighting Gerryma...</td>\n",
       "      <td>None</td>\n",
       "    </tr>\n",
       "  </tbody>\n",
       "</table>\n",
       "<p>248948 rows × 7 columns</p>\n",
       "</div>"
      ],
      "text/plain": [
       "        word_count  year genre subgen  \\\n",
       "text_id                                 \n",
       "221118        8101  1990  SPOK    101   \n",
       "221119        8358  1990  SPOK    101   \n",
       "221120        7824  1990  SPOK    101   \n",
       "221121        8559  1990  SPOK    101   \n",
       "221122        8199  1990  SPOK    101   \n",
       "...            ...   ...   ...    ...   \n",
       "4174366        993  2017  ACAD   NULL   \n",
       "4174367       2393  2017  ACAD   NULL   \n",
       "4174368       1034  2017  ACAD   NULL   \n",
       "4174369       2132  2017  ACAD   NULL   \n",
       "4174370       1724  2017  ACAD   NULL   \n",
       "\n",
       "                                               source  \\\n",
       "text_id                                                 \n",
       "221118                                      ABC_20/20   \n",
       "221119                                      ABC_20/20   \n",
       "221120                                      ABC_20/20   \n",
       "221121                                      ABC_20/20   \n",
       "221122                                      ABC_20/20   \n",
       "...                                               ...   \n",
       "4174366                              Inside Higher Ed   \n",
       "4174367           Diverse: Issues in Higher Education   \n",
       "4174368                              Inside Higher Ed   \n",
       "4174369           Diverse: Issues in Higher Education   \n",
       "4174370  Chronicle of Higher Education (subscription)   \n",
       "\n",
       "                                                     title publication_info  \n",
       "text_id                                                                      \n",
       "221118   Is He a Killer?; Who Will Love My Pet?; The Tw...             None  \n",
       "221119   Golden Years Behind Bars; The Joker; Goodbye W...             None  \n",
       "221120   Too Old Too Soon; Danger on the Half Shell; Mi...             None  \n",
       "221121   Chicken at Any Price?; The Daytop Solution; Su...             None  \n",
       "221122   Children of Terror; Against All Odds; Buck Fev...             None  \n",
       "...                                                    ...              ...  \n",
       "4174366  Study details tool to help professors measure ...             None  \n",
       "4174367  Experts: Colleges' Media Messages Need Diverse...             None  \n",
       "4174368        Another Year on the Academic Job Market\\r\\n             None  \n",
       "4174369  Kentucky Supreme Court Rules University of Lou...             None  \n",
       "4174370  Meet the Math Professor Who's Fighting Gerryma...             None  \n",
       "\n",
       "[248948 rows x 7 columns]"
      ]
     },
     "execution_count": 9,
     "metadata": {},
     "output_type": "execute_result"
    }
   ],
   "source": [
    "sources_df\n",
    "#248,948 sources"
   ]
  },
  {
   "cell_type": "markdown",
   "metadata": {},
   "source": [
    "## Merge text and meta data"
   ]
  },
  {
   "cell_type": "code",
   "execution_count": 51,
   "metadata": {},
   "outputs": [],
   "source": [
    "# only take articles that have both text and metadata\n",
    "refugee_merged_df = refugee_df.join(sources_df, how='inner')\n",
    "all_merged_df = df.join(sources_df, how='inner')\n",
    "\n",
    "refugee_merged_df['year'] = refugee_merged_df['year'].apply(int)\n",
    "refugee_merged_df['word_count'] = refugee_merged_df['word_count'].apply(int)\n",
    "all_merged_df['year'] = all_merged_df['year'].apply(int)\n",
    "all_merged_df['word_count'] = all_merged_df['word_count'].apply(int)"
   ]
  },
  {
   "cell_type": "code",
   "execution_count": 52,
   "metadata": {},
   "outputs": [
    {
     "name": "stdout",
     "output_type": "stream",
     "text": [
      "5257 219337\n"
     ]
    }
   ],
   "source": [
    "print(len(refugee_merged_df), len(all_merged_df))"
   ]
  },
  {
   "cell_type": "code",
   "execution_count": 53,
   "metadata": {},
   "outputs": [
    {
     "data": {
      "text/html": [
       "<div>\n",
       "<style scoped>\n",
       "    .dataframe tbody tr th:only-of-type {\n",
       "        vertical-align: middle;\n",
       "    }\n",
       "\n",
       "    .dataframe tbody tr th {\n",
       "        vertical-align: top;\n",
       "    }\n",
       "\n",
       "    .dataframe thead th {\n",
       "        text-align: right;\n",
       "    }\n",
       "</style>\n",
       "<table border=\"1\" class=\"dataframe\">\n",
       "  <thead>\n",
       "    <tr style=\"text-align: right;\">\n",
       "      <th></th>\n",
       "      <th>text</th>\n",
       "      <th>word_count</th>\n",
       "      <th>year</th>\n",
       "      <th>genre</th>\n",
       "      <th>subgen</th>\n",
       "      <th>source</th>\n",
       "      <th>title</th>\n",
       "      <th>publication_info</th>\n",
       "    </tr>\n",
       "    <tr>\n",
       "      <th>text_id</th>\n",
       "      <th></th>\n",
       "      <th></th>\n",
       "      <th></th>\n",
       "      <th></th>\n",
       "      <th></th>\n",
       "      <th></th>\n",
       "      <th></th>\n",
       "      <th></th>\n",
       "    </tr>\n",
       "  </thead>\n",
       "  <tbody>\n",
       "    <tr>\n",
       "      <th>2018849</th>\n",
       "      <td>##2018849 &lt;p&gt; \" Bums . \" That 's what Radio Ha...</td>\n",
       "      <td>2950</td>\n",
       "      <td>1990</td>\n",
       "      <td>MAG</td>\n",
       "      <td>124</td>\n",
       "      <td>Money</td>\n",
       "      <td>This is the land of opportunity.</td>\n",
       "      <td>Vol. 19 Issue 8, p98, 8p, 1 chart, 3c, 4bw\\r\\n</td>\n",
       "    </tr>\n",
       "    <tr>\n",
       "      <th>2018850</th>\n",
       "      <td>##2018850 Section : INVESTING &lt;p&gt; Expanding pe...</td>\n",
       "      <td>2514</td>\n",
       "      <td>1990</td>\n",
       "      <td>MAG</td>\n",
       "      <td>124</td>\n",
       "      <td>Money</td>\n",
       "      <td>Betting on regional booms.</td>\n",
       "      <td>Vol. 19 Issue 8, p110, 5p, 1 chart, 2c\\r\\n</td>\n",
       "    </tr>\n",
       "    <tr>\n",
       "      <th>2019006</th>\n",
       "      <td>##2019006 Section : CLOTHES THAT WORK American...</td>\n",
       "      <td>1667</td>\n",
       "      <td>1990</td>\n",
       "      <td>MAG</td>\n",
       "      <td>130</td>\n",
       "      <td>MotherEarth</td>\n",
       "      <td>The evolution of jeans.</td>\n",
       "      <td>p60, 4p, 5c, 2bw\\r\\n</td>\n",
       "    </tr>\n",
       "    <tr>\n",
       "      <th>2019061</th>\n",
       "      <td>##2019061 Section : MOVEMENTS From socialist t...</td>\n",
       "      <td>1754</td>\n",
       "      <td>1990</td>\n",
       "      <td>MAG</td>\n",
       "      <td>123</td>\n",
       "      <td>MotherJones</td>\n",
       "      <td>Serve the people.</td>\n",
       "      <td>Vol. 15 Issue 5, p18, 3p, 1 illustration\\r\\n</td>\n",
       "    </tr>\n",
       "    <tr>\n",
       "      <th>2019063</th>\n",
       "      <td>##2019063 &lt;p&gt; INSIDE A DUSTY CEMENT-BLOCK HOUS...</td>\n",
       "      <td>6032</td>\n",
       "      <td>1990</td>\n",
       "      <td>MAG</td>\n",
       "      <td>123</td>\n",
       "      <td>MotherJones</td>\n",
       "      <td>No road to Tahuanti.</td>\n",
       "      <td>Vol. 15 Issue 5, p36, 11p, 8bw\\r\\n</td>\n",
       "    </tr>\n",
       "    <tr>\n",
       "      <th>...</th>\n",
       "      <td>...</td>\n",
       "      <td>...</td>\n",
       "      <td>...</td>\n",
       "      <td>...</td>\n",
       "      <td>...</td>\n",
       "      <td>...</td>\n",
       "      <td>...</td>\n",
       "      <td>...</td>\n",
       "    </tr>\n",
       "    <tr>\n",
       "      <th>4162833</th>\n",
       "      <td>@@4162833 O o . Here I am with this American b...</td>\n",
       "      <td>2952</td>\n",
       "      <td>2013</td>\n",
       "      <td>FIC</td>\n",
       "      <td>115</td>\n",
       "      <td>AntiochRev</td>\n",
       "      <td>Beta.</td>\n",
       "      <td>Spring2013, Vol. 71 Issue 2, p309-316. 8p. \\r\\n</td>\n",
       "    </tr>\n",
       "    <tr>\n",
       "      <th>4162845</th>\n",
       "      <td>@@4162845 ATRICK IS FOURTEEN , this is earth ,...</td>\n",
       "      <td>6792</td>\n",
       "      <td>2013</td>\n",
       "      <td>FIC</td>\n",
       "      <td>115</td>\n",
       "      <td>MassachRev</td>\n",
       "      <td>Godzilla versus the Smog Monster.</td>\n",
       "      <td>Spring2013, Vol. 54 Issue 1, p51-67. 17p. \\r\\n</td>\n",
       "    </tr>\n",
       "    <tr>\n",
       "      <th>4162876</th>\n",
       "      <td>@@4162876 Any future lists of colorful Texas c...</td>\n",
       "      <td>7553</td>\n",
       "      <td>2013</td>\n",
       "      <td>FIC</td>\n",
       "      <td>116</td>\n",
       "      <td>FantasySciFi</td>\n",
       "      <td>A Haunting in Love City.</td>\n",
       "      <td>Jan/Feb2013, Vol. 124 Issue 1/2, p147-165. 19...</td>\n",
       "    </tr>\n",
       "    <tr>\n",
       "      <th>4163095</th>\n",
       "      <td>@@4163095 first met Sulayman in a play at the ...</td>\n",
       "      <td>13168</td>\n",
       "      <td>2013</td>\n",
       "      <td>FIC</td>\n",
       "      <td>115</td>\n",
       "      <td>NewEnglandRev</td>\n",
       "      <td>The Damascus Players.</td>\n",
       "      <td>2013, Vol. 34 Issue 2, p94-118. 25p. \\r\\n</td>\n",
       "    </tr>\n",
       "    <tr>\n",
       "      <th>4163113</th>\n",
       "      <td>@@4163113 Father always said he 'd truly under...</td>\n",
       "      <td>5653</td>\n",
       "      <td>2013</td>\n",
       "      <td>FIC</td>\n",
       "      <td>115</td>\n",
       "      <td>IowaRev</td>\n",
       "      <td>REFUGEES IN RECESSION.</td>\n",
       "      <td>Spring2013, Vol. 43 Issue 1, p168-180. 13p. \\r\\n</td>\n",
       "    </tr>\n",
       "  </tbody>\n",
       "</table>\n",
       "<p>5257 rows × 8 columns</p>\n",
       "</div>"
      ],
      "text/plain": [
       "                                                      text  word_count  year  \\\n",
       "text_id                                                                        \n",
       "2018849  ##2018849 <p> \" Bums . \" That 's what Radio Ha...        2950  1990   \n",
       "2018850  ##2018850 Section : INVESTING <p> Expanding pe...        2514  1990   \n",
       "2019006  ##2019006 Section : CLOTHES THAT WORK American...        1667  1990   \n",
       "2019061  ##2019061 Section : MOVEMENTS From socialist t...        1754  1990   \n",
       "2019063  ##2019063 <p> INSIDE A DUSTY CEMENT-BLOCK HOUS...        6032  1990   \n",
       "...                                                    ...         ...   ...   \n",
       "4162833  @@4162833 O o . Here I am with this American b...        2952  2013   \n",
       "4162845  @@4162845 ATRICK IS FOURTEEN , this is earth ,...        6792  2013   \n",
       "4162876  @@4162876 Any future lists of colorful Texas c...        7553  2013   \n",
       "4163095  @@4163095 first met Sulayman in a play at the ...       13168  2013   \n",
       "4163113  @@4163113 Father always said he 'd truly under...        5653  2013   \n",
       "\n",
       "        genre subgen         source                               title  \\\n",
       "text_id                                                                   \n",
       "2018849   MAG    124          Money    This is the land of opportunity.   \n",
       "2018850   MAG    124          Money          Betting on regional booms.   \n",
       "2019006   MAG    130    MotherEarth             The evolution of jeans.   \n",
       "2019061   MAG    123    MotherJones                   Serve the people.   \n",
       "2019063   MAG    123    MotherJones                No road to Tahuanti.   \n",
       "...       ...    ...            ...                                 ...   \n",
       "4162833   FIC    115     AntiochRev                              Beta.    \n",
       "4162845   FIC    115     MassachRev  Godzilla versus the Smog Monster.    \n",
       "4162876   FIC    116   FantasySciFi           A Haunting in Love City.    \n",
       "4163095   FIC    115  NewEnglandRev              The Damascus Players.    \n",
       "4163113   FIC    115        IowaRev             REFUGEES IN RECESSION.    \n",
       "\n",
       "                                          publication_info  \n",
       "text_id                                                     \n",
       "2018849     Vol. 19 Issue 8, p98, 8p, 1 chart, 3c, 4bw\\r\\n  \n",
       "2018850         Vol. 19 Issue 8, p110, 5p, 1 chart, 2c\\r\\n  \n",
       "2019006                               p60, 4p, 5c, 2bw\\r\\n  \n",
       "2019061       Vol. 15 Issue 5, p18, 3p, 1 illustration\\r\\n  \n",
       "2019063                 Vol. 15 Issue 5, p36, 11p, 8bw\\r\\n  \n",
       "...                                                    ...  \n",
       "4162833    Spring2013, Vol. 71 Issue 2, p309-316. 8p. \\r\\n  \n",
       "4162845     Spring2013, Vol. 54 Issue 1, p51-67. 17p. \\r\\n  \n",
       "4162876   Jan/Feb2013, Vol. 124 Issue 1/2, p147-165. 19...  \n",
       "4163095          2013, Vol. 34 Issue 2, p94-118. 25p. \\r\\n  \n",
       "4163113   Spring2013, Vol. 43 Issue 1, p168-180. 13p. \\r\\n  \n",
       "\n",
       "[5257 rows x 8 columns]"
      ]
     },
     "execution_count": 53,
     "metadata": {},
     "output_type": "execute_result"
    }
   ],
   "source": [
    "refugee_merged_df\n",
    "# about 200 a year"
   ]
  },
  {
   "cell_type": "code",
   "execution_count": 54,
   "metadata": {},
   "outputs": [
    {
     "data": {
      "text/plain": [
       "genre\n",
       "ACAD     883\n",
       "FIC      540\n",
       "MAG      957\n",
       "NEWS    1601\n",
       "SPOK    1276\n",
       "dtype: int64"
      ]
     },
     "execution_count": 54,
     "metadata": {},
     "output_type": "execute_result"
    }
   ],
   "source": [
    "refugee_merged_df.groupby('genre').size()"
   ]
  },
  {
   "cell_type": "code",
   "execution_count": 55,
   "metadata": {},
   "outputs": [
    {
     "data": {
      "text/plain": [
       "year\n",
       "1990    3.703704\n",
       "1991    4.491154\n",
       "1992    3.172805\n",
       "1993    3.532984\n",
       "1994    3.808741\n",
       "1995    2.686932\n",
       "1996    2.799228\n",
       "1997    2.052452\n",
       "1998    2.346773\n",
       "1999    2.805562\n",
       "2000    2.345005\n",
       "2001    2.379841\n",
       "2002    2.793356\n",
       "2003    1.974021\n",
       "2004    1.943729\n",
       "2005    2.069426\n",
       "2006    2.374986\n",
       "2007    2.033599\n",
       "2008    1.751131\n",
       "2009    1.794380\n",
       "2010    1.496840\n",
       "2011    1.708305\n",
       "2012    1.601478\n",
       "2013    1.764149\n",
       "2014    2.154928\n",
       "2015    2.546902\n",
       "dtype: float64"
      ]
     },
     "execution_count": 55,
     "metadata": {},
     "output_type": "execute_result"
    }
   ],
   "source": [
    "refugee_merged_df.groupby('year').size()/all_merged_df.groupby('year').size()*100"
   ]
  },
  {
   "cell_type": "markdown",
   "metadata": {},
   "source": [
    "## Data cleaning"
   ]
  },
  {
   "cell_type": "code",
   "execution_count": 98,
   "metadata": {},
   "outputs": [],
   "source": [
    "data = refugee_merged_df.reset_index()"
   ]
  },
  {
   "cell_type": "code",
   "execution_count": 57,
   "metadata": {},
   "outputs": [],
   "source": [
    "def clean_title(row):\n",
    "    title = row['title']\n",
    "    remove = ['\\r','\\n','^']\n",
    "    for string in remove:\n",
    "        title = title.replace(string,'')\n",
    "    return title\n",
    "\n",
    "def clean_text(row):\n",
    "    text = row['text']\n",
    "    text_id = row['text_id']\n",
    "    remove = ['\\r','\\n','<p>','@','##{}'.format(text_id)]\n",
    "    for string in remove:\n",
    "        text = text.replace(string,'')\n",
    "    return text.lower()"
   ]
  },
  {
   "cell_type": "code",
   "execution_count": 58,
   "metadata": {},
   "outputs": [],
   "source": [
    "data['title'] = data.apply(lambda x: clean_title(x), axis=1)\n",
    "data['text'] = data.apply(lambda x: clean_text(x), axis=1)"
   ]
  },
  {
   "cell_type": "code",
   "execution_count": 59,
   "metadata": {},
   "outputs": [],
   "source": [
    "data.to_csv('data/refugee_coca_all.csv', index=False)"
   ]
  },
  {
   "cell_type": "code",
   "execution_count": 60,
   "metadata": {},
   "outputs": [],
   "source": [
    "data = pd.read_csv('data/refugee_coca_all.csv')"
   ]
  },
  {
   "cell_type": "markdown",
   "metadata": {},
   "source": [
    "## Summary of Sample"
   ]
  },
  {
   "cell_type": "code",
   "execution_count": 61,
   "metadata": {},
   "outputs": [
    {
     "data": {
      "text/plain": [
       "array(['MAG', 'ACAD', 'SPOK', 'FIC', 'NEWS'], dtype=object)"
      ]
     },
     "execution_count": 61,
     "metadata": {},
     "output_type": "execute_result"
    }
   ],
   "source": [
    "genres = data['genre'].unique()\n",
    "genres"
   ]
  },
  {
   "cell_type": "code",
   "execution_count": 62,
   "metadata": {},
   "outputs": [
    {
     "data": {
      "text/plain": [
       "[1990,\n",
       " 1991,\n",
       " 1992,\n",
       " 1993,\n",
       " 1994,\n",
       " 1995,\n",
       " 1996,\n",
       " 1997,\n",
       " 1998,\n",
       " 1999,\n",
       " 2000,\n",
       " 2001,\n",
       " 2002,\n",
       " 2003,\n",
       " 2004,\n",
       " 2005,\n",
       " 2006,\n",
       " 2007,\n",
       " 2008,\n",
       " 2009,\n",
       " 2010,\n",
       " 2011,\n",
       " 2012,\n",
       " 2013,\n",
       " 2014,\n",
       " 2015]"
      ]
     },
     "execution_count": 62,
     "metadata": {},
     "output_type": "execute_result"
    }
   ],
   "source": [
    "years = sorted(data['year'].unique())\n",
    "years"
   ]
  },
  {
   "cell_type": "markdown",
   "metadata": {},
   "source": [
    "### Number / percentage of docs"
   ]
  },
  {
   "cell_type": "code",
   "execution_count": 63,
   "metadata": {},
   "outputs": [
    {
     "data": {
      "text/plain": [
       "Text(0.5, 1.0, \"Number of documents with 'refugee' in the COCA corpus by year\")"
      ]
     },
     "execution_count": 63,
     "metadata": {},
     "output_type": "execute_result"
    },
    {
     "data": {
      "image/png": "[encoded data removed]",
      "text/plain": [
       "<Figure size 432x288 with 1 Axes>"
      ]
     },
     "metadata": {
      "needs_background": "light"
     },
     "output_type": "display_data"
    }
   ],
   "source": [
    "# Number of articles over time by genre\n",
    "acad, = plt.plot(years, data[data['genre']=='ACAD'].groupby('year').size(), label='Academic')\n",
    "mag, = plt.plot(years, data[data['genre']=='MAG'].groupby('year').size(), label='Magazine')\n",
    "spok, = plt.plot(years, data[data['genre']=='SPOK'].groupby('year').size(), label='Spoken')\n",
    "fic, = plt.plot(years, data[data['genre']=='FIC'].groupby('year').size(), label='Fiction')\n",
    "news, = plt.plot(years, data[data['genre']=='NEWS'].groupby(['year']).size(), label='News')\n",
    "all_, = plt.plot(years,data.groupby('year').size(), label=\"All\")\n",
    "\n",
    "colors = [\"brown\",\"orange\",\"green\",\"pink\",\"purple\",\"blue\"]\n",
    "for i in range(len(plt.gca().get_lines())):\n",
    "    plt.gca().get_lines()[i].set_color(colors[i])\n",
    "    \n",
    "plt.legend(handles=[acad, mag, spok, fic, news, all_], loc=\"center right\", bbox_to_anchor=(1.3, .5), ncol=1)\n",
    "\n",
    "\n",
    "plt.ylabel('Number of documents')\n",
    "plt.xlabel('Year')\n",
    "plt.title(\"Number of documents with 'refugee' in the COCA corpus by year\")"
   ]
  },
  {
   "cell_type": "code",
   "execution_count": 66,
   "metadata": {},
   "outputs": [
    {
     "data": {
      "text/plain": [
       "Text(0.5, 1.0, \"Percentage of documents with 'refugee' in the COCA corpus by year\")"
      ]
     },
     "execution_count": 66,
     "metadata": {},
     "output_type": "execute_result"
    },
    {
     "data": {
      "image/png": "[encoded data removed]",
      "text/plain": [
       "<Figure size 432x288 with 1 Axes>"
      ]
     },
     "metadata": {
      "needs_background": "light"
     },
     "output_type": "display_data"
    }
   ],
   "source": [
    "# Percentage of articles over time by genre\n",
    "\n",
    "acad, = plt.plot(years, data[data['genre']=='ACAD'].groupby('year').size()/all_merged_df[all_merged_df['genre']=='ACAD'].groupby('year').size()*100, label='Academic')\n",
    "mag, = plt.plot(years, data[data['genre']=='MAG'].groupby('year').size()/all_merged_df[all_merged_df['genre']=='MAG'].groupby('year').size()*100, label='Magazine')\n",
    "spok, = plt.plot(years, data[data['genre']=='SPOK'].groupby('year').size()/all_merged_df[all_merged_df['genre']=='SPOK'].groupby('year').size()*100, label='Spoken')\n",
    "fic, = plt.plot(years, data[data['genre']=='FIC'].groupby('year').size()/all_merged_df[all_merged_df['genre']=='FIC'].groupby('year').size()*100, label='Fiction')\n",
    "news, = plt.plot(years, data[data['genre']=='NEWS'].groupby('year').size()/all_merged_df[all_merged_df['genre']=='NEWS'].groupby('year').size()*100, label='News')\n",
    "all_, = plt.plot(years, data.groupby('year').size()/all_merged_df.groupby('year').size()*100, label=\"All\")\n",
    "\n",
    "colors = [\"brown\",\"orange\",\"green\",\"pink\",\"purple\",\"blue\"]\n",
    "for i in range(len(plt.gca().get_lines())):\n",
    "    plt.gca().get_lines()[i].set_color(colors[i])\n",
    "    \n",
    "plt.legend(handles=[acad, mag, spok, fic, news, all_], loc=\"center right\", bbox_to_anchor=(1.3, .5), ncol=1)\n",
    "\n",
    "#plt.vlines('2006',0,700, linestyles='dashed')\n",
    "\n",
    "plt.ylabel('Percentage of documents')\n",
    "plt.xlabel('Year')\n",
    "plt.title(\"Percentage of documents with 'refugee' in the COCA corpus by year\")"
   ]
  },
  {
   "cell_type": "markdown",
   "metadata": {},
   "source": [
    "### Average word count"
   ]
  },
  {
   "cell_type": "code",
   "execution_count": 67,
   "metadata": {},
   "outputs": [
    {
     "data": {
      "text/plain": [
       "4409.828989918205"
      ]
     },
     "execution_count": 67,
     "metadata": {},
     "output_type": "execute_result"
    }
   ],
   "source": [
    "# Average Word Count\n",
    "data['word_count'].sum() / len(data)"
   ]
  },
  {
   "cell_type": "code",
   "execution_count": 68,
   "metadata": {},
   "outputs": [
    {
     "name": "stdout",
     "output_type": "stream",
     "text": [
      "49 107449\n"
     ]
    }
   ],
   "source": [
    "print(data['word_count'].min(), data['word_count'].max())"
   ]
  },
  {
   "cell_type": "code",
   "execution_count": 71,
   "metadata": {},
   "outputs": [],
   "source": [
    "def get_word_count(data):\n",
    "    word_count = []\n",
    "    for yr in years:\n",
    "        yearly = data[data['year']==yr]\n",
    "        word_count.append(yearly['word_count'].sum() / len(yearly))\n",
    "    return word_count"
   ]
  },
  {
   "cell_type": "code",
   "execution_count": 77,
   "metadata": {},
   "outputs": [
    {
     "data": {
      "text/plain": [
       "Text(0.5, 1.0, \"Average word count of documents with 'refugee' in the COCA corpus by year\")"
      ]
     },
     "execution_count": 77,
     "metadata": {},
     "output_type": "execute_result"
    },
    {
     "data": {
      "image/png": "[encoded data removed]",
      "text/plain": [
       "<Figure size 432x288 with 1 Axes>"
      ]
     },
     "metadata": {
      "needs_background": "light"
     },
     "output_type": "display_data"
    }
   ],
   "source": [
    "acad, = plt.plot(years, get_word_count(data[data['genre']=='ACAD']), label='Academic')\n",
    "mag, = plt.plot(years, get_word_count(data[data['genre']=='MAG']), label='Magazine')\n",
    "spok, = plt.plot(years, get_word_count(data[data['genre']=='SPOK']), label='Spoken')\n",
    "fic, = plt.plot(years, get_word_count(data[data['genre']=='FIC']), label='Fiction')\n",
    "news, = plt.plot(years, get_word_count(data[data['genre']=='NEWS']), label='News')\n",
    "all_, = plt.plot(years, get_word_count(data), label='All')\n",
    "\n",
    "colors = [\"brown\",\"orange\",\"green\",\"pink\",\"purple\",\"blue\"]\n",
    "for i in range(6):\n",
    "    plt.gca().get_lines()[i].set_color(colors[i])\n",
    "    \n",
    "plt.legend(handles=[acad, mag, spok, fic, news, all_], loc=\"center right\", bbox_to_anchor=(1.3, .5), ncol=1)\n",
    "\n",
    "# plot average of sample\n",
    "plt.hlines(data['word_count'].sum() / len(data), 1990, 2015, linestyles='dashed')\n",
    "\n",
    "plt.ylabel('Average Word Count')\n",
    "plt.xlabel('Year')\n",
    "plt.title(\"Average word count of documents with 'refugee' in the COCA corpus by year\")"
   ]
  },
  {
   "cell_type": "markdown",
   "metadata": {},
   "source": [
    "### Unique sources"
   ]
  },
  {
   "cell_type": "code",
   "execution_count": 73,
   "metadata": {},
   "outputs": [],
   "source": [
    "# Number of unique sources over time\n",
    "def get_unique_source(data):\n",
    "    unique_source = []\n",
    "    for yr in years:\n",
    "        yearly = data[data['year']==yr]\n",
    "        unique_source.append(len(yearly['source'].unique()))\n",
    "    return unique_source"
   ]
  },
  {
   "cell_type": "code",
   "execution_count": 74,
   "metadata": {},
   "outputs": [
    {
     "data": {
      "text/plain": [
       "606"
      ]
     },
     "execution_count": 74,
     "metadata": {},
     "output_type": "execute_result"
    }
   ],
   "source": [
    "len(data['source'].unique())"
   ]
  },
  {
   "cell_type": "code",
   "execution_count": 75,
   "metadata": {},
   "outputs": [
    {
     "data": {
      "text/plain": [
       "2015"
      ]
     },
     "execution_count": 75,
     "metadata": {},
     "output_type": "execute_result"
    }
   ],
   "source": [
    "years[-1]"
   ]
  },
  {
   "cell_type": "code",
   "execution_count": 78,
   "metadata": {
    "scrolled": true
   },
   "outputs": [
    {
     "data": {
      "text/plain": [
       "Text(0.5, 1.0, \"Number of unique sources with 'refugee' in the COCA corpus by year\")"
      ]
     },
     "execution_count": 78,
     "metadata": {},
     "output_type": "execute_result"
    },
    {
     "data": {
      "image/png": "[encoded data removed]",
      "text/plain": [
       "<Figure size 432x288 with 1 Axes>"
      ]
     },
     "metadata": {
      "needs_background": "light"
     },
     "output_type": "display_data"
    }
   ],
   "source": [
    "acad, = plt.plot(years, get_unique_source(data[data['genre']=='ACAD']), label='Academic')\n",
    "mag, = plt.plot(years, get_unique_source(data[data['genre']=='MAG']), label='Magazine')\n",
    "spok, = plt.plot(years, get_unique_source(data[data['genre']=='SPOK']), label='Spoken')\n",
    "fic, = plt.plot(years, get_unique_source(data[data['genre']=='FIC']), label='Fiction')\n",
    "news, = plt.plot(years, get_unique_source(data[data['genre']=='NEWS']), label='News')\n",
    "all_, = plt.plot(years, get_unique_source(data), label='All')\n",
    "\n",
    "colors = [\"brown\",\"orange\",\"green\",\"pink\",\"purple\",\"blue\"]\n",
    "for i in range(6):\n",
    "    plt.gca().get_lines()[i].set_color(colors[i])\n",
    "    \n",
    "plt.legend(handles=[acad, mag, spok, fic, news, all_], loc=\"center right\", bbox_to_anchor=(1.3, .5), ncol=1)\n",
    "\n",
    "plt.ylabel('Number of unique sources')\n",
    "plt.xlabel('Year')\n",
    "plt.title(\"Number of unique sources with 'refugee' in the COCA corpus by year\")"
   ]
  },
  {
   "cell_type": "markdown",
   "metadata": {},
   "source": [
    "## Getting only relevant genres for analysis"
   ]
  },
  {
   "cell_type": "code",
   "execution_count": 99,
   "metadata": {},
   "outputs": [],
   "source": [
    "data = data[(data['genre']=='SPOK') | (data['genre']=='NEWS') | (data['genre']=='MAG')]"
   ]
  },
  {
   "cell_type": "code",
   "execution_count": 101,
   "metadata": {},
   "outputs": [
    {
     "data": {
      "text/plain": [
       "array(['MAG', 'SPOK', 'NEWS'], dtype=object)"
      ]
     },
     "execution_count": 101,
     "metadata": {},
     "output_type": "execute_result"
    }
   ],
   "source": [
    "data.genre.unique()"
   ]
  },
  {
   "cell_type": "code",
   "execution_count": 103,
   "metadata": {},
   "outputs": [
    {
     "data": {
      "text/plain": [
       "3834"
      ]
     },
     "execution_count": 103,
     "metadata": {},
     "output_type": "execute_result"
    }
   ],
   "source": [
    "len(data)"
   ]
  },
  {
   "cell_type": "code",
   "execution_count": 102,
   "metadata": {},
   "outputs": [],
   "source": [
    "data.to_csv('data/refugee_coca_foranalysis.csv', index=False)"
   ]
  }
 ],
 "metadata": {
  "kernelspec": {
   "display_name": "Python 3.8.1",
   "language": "python",
   "name": "3.8.1"
  },
  "language_info": {
   "codemirror_mode": {
    "name": "ipython",
    "version": 3
   },
   "file_extension": ".py",
   "mimetype": "text/x-python",
   "name": "python",
   "nbconvert_exporter": "python",
   "pygments_lexer": "ipython3",
   "version": "3.8.1"
  }
 },
 "nbformat": 4,
 "nbformat_minor": 4
}
