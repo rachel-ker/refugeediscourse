{
 "cells": [
  {
   "cell_type": "markdown",
   "metadata": {},
   "source": [
    "# Getting data from COCA corpus"
   ]
  },
  {
   "cell_type": "code",
   "execution_count": 5,
   "metadata": {},
   "outputs": [],
   "source": [
    "import pandas as pd\n",
    "import zipfile\n",
    "import re\n",
    "import os\n",
    "import matplotlib\n",
    "import matplotlib.pyplot as plt "
   ]
  },
  {
   "cell_type": "code",
   "execution_count": 6,
   "metadata": {},
   "outputs": [
    {
     "data": {
      "text/plain": [
       "'/Users/rachelker/Documents/UChic MSCAPP/Curriculum/2019-20 Winter/Computational Content Analysis/Project/Data/Davies Corpora/COCA/'"
      ]
     },
     "execution_count": 6,
     "metadata": {},
     "output_type": "execute_result"
    }
   ],
   "source": [
    "# set filepath\n",
    "COCA = \"/Users/rachelker/Documents/UChic MSCAPP/Curriculum/2019-20 Winter/Computational Content Analysis/Project/Data/Davies Corpora/COCA/\"\n",
    "COCA"
   ]
  },
  {
   "cell_type": "markdown",
   "metadata": {},
   "source": [
    "## Getting texts"
   ]
  },
  {
   "cell_type": "code",
   "execution_count": 67,
   "metadata": {},
   "outputs": [],
   "source": [
    "def get_data(corpus, topic_filter):    \n",
    "    # get all text\n",
    "    data = load_corpus(corpus)    \n",
    "    all_news = []\n",
    "    [all_news.extend(data[k]) for k in data.keys()]\n",
    "        \n",
    "    # load into dataframe\n",
    "    df = pd.DataFrame(all_news, columns=['text'])\n",
    "    df['text'] = df.apply(lambda x: x['text'].decode('utf-8', errors='ignore'), axis=1) \n",
    "    df = df[df['text']!='\\r\\n']\n",
    "    df = df[df['text'].str.contains(topic_filter)]\n",
    "\n",
    "    # get text_ids\n",
    "    df['text_id'] = df.apply(lambda x: get_textid(x), axis=1)\n",
    "    df.set_index('text_id', inplace=True)\n",
    "    return df\n",
    "\n",
    "def get_textid(row):\n",
    "        text = row['text']\n",
    "        text_id = re.search('(?<=##|@@)[0-9]+', text)\n",
    "        return str(text_id.group(0))\n",
    "    \n",
    "def load_corpus(corpus):\n",
    "    data = {}\n",
    "    for zip_ in os.listdir(corpus):\n",
    "        if \"zip\" in zip_ and \"sources\" not in zip_:\n",
    "            try:\n",
    "                zfile = zipfile.ZipFile(corpus + zip_)\n",
    "                for file in zfile.namelist():\n",
    "                    data[file] = []\n",
    "                    with zfile.open(file) as f:\n",
    "                        for line in f:\n",
    "                            data[file].append(line)\n",
    "            except:\n",
    "                print(zip_, \" \")\n",
    "                continue\n",
    "\n",
    "    return data"
   ]
  },
  {
   "cell_type": "code",
   "execution_count": 68,
   "metadata": {},
   "outputs": [],
   "source": [
    "df = get_data(COCA, '')\n",
    "# total of 219,379 articles"
   ]
  },
  {
   "cell_type": "code",
   "execution_count": 69,
   "metadata": {},
   "outputs": [],
   "source": [
    "immigra_df = get_data(COCA, 'immigra')"
   ]
  },
  {
   "cell_type": "code",
   "execution_count": 70,
   "metadata": {},
   "outputs": [
    {
     "data": {
      "text/html": [
       "<div>\n",
       "<style scoped>\n",
       "    .dataframe tbody tr th:only-of-type {\n",
       "        vertical-align: middle;\n",
       "    }\n",
       "\n",
       "    .dataframe tbody tr th {\n",
       "        vertical-align: top;\n",
       "    }\n",
       "\n",
       "    .dataframe thead th {\n",
       "        text-align: right;\n",
       "    }\n",
       "</style>\n",
       "<table border=\"1\" class=\"dataframe\">\n",
       "  <thead>\n",
       "    <tr style=\"text-align: right;\">\n",
       "      <th></th>\n",
       "      <th>text</th>\n",
       "    </tr>\n",
       "    <tr>\n",
       "      <th>text_id</th>\n",
       "      <th></th>\n",
       "    </tr>\n",
       "  </thead>\n",
       "  <tbody>\n",
       "    <tr>\n",
       "      <th>2018849</th>\n",
       "      <td>##2018849 &lt;p&gt; \" Bums . \" That 's what Radio Ha...</td>\n",
       "    </tr>\n",
       "    <tr>\n",
       "      <th>2018857</th>\n",
       "      <td>##2018857 Section : SPENDING MONEY ranks the 1...</td>\n",
       "    </tr>\n",
       "    <tr>\n",
       "      <th>2018863</th>\n",
       "      <td>##2018863 Section : WORK IN THE ' 90S The hott...</td>\n",
       "    </tr>\n",
       "    <tr>\n",
       "      <th>2018864</th>\n",
       "      <td>##2018864 &lt;p&gt; Communism 's collapse could make...</td>\n",
       "    </tr>\n",
       "    <tr>\n",
       "      <th>2018979</th>\n",
       "      <td>##2018979 Section : NEWS FROM MOTHER &lt;p&gt; THIS ...</td>\n",
       "    </tr>\n",
       "    <tr>\n",
       "      <th>...</th>\n",
       "      <td>...</td>\n",
       "    </tr>\n",
       "    <tr>\n",
       "      <th>4163015</th>\n",
       "      <td>@@4163015 When-his wife left him , Al Klugg tu...</td>\n",
       "    </tr>\n",
       "    <tr>\n",
       "      <th>4163050</th>\n",
       "      <td>@@4163050 The only sport I ever saw my father ...</td>\n",
       "    </tr>\n",
       "    <tr>\n",
       "      <th>4163051</th>\n",
       "      <td>@@4163051 The zombie community is astir with c...</td>\n",
       "    </tr>\n",
       "    <tr>\n",
       "      <th>4163120</th>\n",
       "      <td>@@4163120 hey have been swimming in the startl...</td>\n",
       "    </tr>\n",
       "    <tr>\n",
       "      <th>4163133</th>\n",
       "      <td>@@4163133 sad . Tbe poignancy tbat arises wben...</td>\n",
       "    </tr>\n",
       "  </tbody>\n",
       "</table>\n",
       "<p>11747 rows × 1 columns</p>\n",
       "</div>"
      ],
      "text/plain": [
       "                                                      text\n",
       "text_id                                                   \n",
       "2018849  ##2018849 <p> \" Bums . \" That 's what Radio Ha...\n",
       "2018857  ##2018857 Section : SPENDING MONEY ranks the 1...\n",
       "2018863  ##2018863 Section : WORK IN THE ' 90S The hott...\n",
       "2018864  ##2018864 <p> Communism 's collapse could make...\n",
       "2018979  ##2018979 Section : NEWS FROM MOTHER <p> THIS ...\n",
       "...                                                    ...\n",
       "4163015  @@4163015 When-his wife left him , Al Klugg tu...\n",
       "4163050  @@4163050 The only sport I ever saw my father ...\n",
       "4163051  @@4163051 The zombie community is astir with c...\n",
       "4163120  @@4163120 hey have been swimming in the startl...\n",
       "4163133  @@4163133 sad . Tbe poignancy tbat arises wben...\n",
       "\n",
       "[11747 rows x 1 columns]"
      ]
     },
     "execution_count": 70,
     "metadata": {},
     "output_type": "execute_result"
    }
   ],
   "source": [
    "immigra_df\n",
    "# 11,747"
   ]
  },
  {
   "cell_type": "markdown",
   "metadata": {},
   "source": [
    "## Getting metadata"
   ]
  },
  {
   "cell_type": "code",
   "execution_count": 90,
   "metadata": {},
   "outputs": [],
   "source": [
    "def get_sources():\n",
    "    cols = ['text_id', 'word_count', 'year', 'genre', 'subgen', 'source', 'title', 'publication_info']\n",
    "\n",
    "    zfile = zipfile.ZipFile(COCA + \"sources.zip\")\n",
    "    source = []\n",
    "    for file in zfile.namelist():\n",
    "        with zfile.open(file) as f:\n",
    "            i=0\n",
    "            for line in f:\n",
    "                if i<=1:\n",
    "                    # skip first 2 lines\n",
    "                    print(line)\n",
    "                    i+=1\n",
    "                    continue\n",
    "               \n",
    "                line = line.decode('utf-8', errors='ignore').split(\"\\t\", 7)\n",
    "                if len(line)>4:\n",
    "                    source.append(line)\n",
    "    \n",
    "    sources_df = pd.DataFrame(source, columns=cols)\n",
    "    sources_df.set_index('text_id', inplace=True)\n",
    "    return sources_df"
   ]
  },
  {
   "cell_type": "code",
   "execution_count": 91,
   "metadata": {},
   "outputs": [
    {
     "name": "stdout",
     "output_type": "stream",
     "text": [
      "b'textID\\t#words\\tyear\\tgenre\\tsubgen\\tsource\\ttitle\\t\\t(publication info, for non-spoken)\\r\\n'\n",
      "b'----\\t----\\t----\\t----\\t----\\t----\\t----\\r\\n'\n"
     ]
    }
   ],
   "source": [
    "sources_df = get_sources()"
   ]
  },
  {
   "cell_type": "code",
   "execution_count": 92,
   "metadata": {},
   "outputs": [
    {
     "data": {
      "text/html": [
       "<div>\n",
       "<style scoped>\n",
       "    .dataframe tbody tr th:only-of-type {\n",
       "        vertical-align: middle;\n",
       "    }\n",
       "\n",
       "    .dataframe tbody tr th {\n",
       "        vertical-align: top;\n",
       "    }\n",
       "\n",
       "    .dataframe thead th {\n",
       "        text-align: right;\n",
       "    }\n",
       "</style>\n",
       "<table border=\"1\" class=\"dataframe\">\n",
       "  <thead>\n",
       "    <tr style=\"text-align: right;\">\n",
       "      <th></th>\n",
       "      <th>word_count</th>\n",
       "      <th>year</th>\n",
       "      <th>genre</th>\n",
       "      <th>subgen</th>\n",
       "      <th>source</th>\n",
       "      <th>title</th>\n",
       "      <th>publication_info</th>\n",
       "    </tr>\n",
       "    <tr>\n",
       "      <th>text_id</th>\n",
       "      <th></th>\n",
       "      <th></th>\n",
       "      <th></th>\n",
       "      <th></th>\n",
       "      <th></th>\n",
       "      <th></th>\n",
       "      <th></th>\n",
       "    </tr>\n",
       "  </thead>\n",
       "  <tbody>\n",
       "    <tr>\n",
       "      <th>221118</th>\n",
       "      <td>8101</td>\n",
       "      <td>1990</td>\n",
       "      <td>SPOK</td>\n",
       "      <td>101</td>\n",
       "      <td>ABC_20/20</td>\n",
       "      <td>Is He a Killer?; Who Will Love My Pet?; The Tw...</td>\n",
       "      <td>None</td>\n",
       "    </tr>\n",
       "    <tr>\n",
       "      <th>221119</th>\n",
       "      <td>8358</td>\n",
       "      <td>1990</td>\n",
       "      <td>SPOK</td>\n",
       "      <td>101</td>\n",
       "      <td>ABC_20/20</td>\n",
       "      <td>Golden Years Behind Bars; The Joker; Goodbye W...</td>\n",
       "      <td>None</td>\n",
       "    </tr>\n",
       "    <tr>\n",
       "      <th>221120</th>\n",
       "      <td>7824</td>\n",
       "      <td>1990</td>\n",
       "      <td>SPOK</td>\n",
       "      <td>101</td>\n",
       "      <td>ABC_20/20</td>\n",
       "      <td>Too Old Too Soon; Danger on the Half Shell; Mi...</td>\n",
       "      <td>None</td>\n",
       "    </tr>\n",
       "    <tr>\n",
       "      <th>221121</th>\n",
       "      <td>8559</td>\n",
       "      <td>1990</td>\n",
       "      <td>SPOK</td>\n",
       "      <td>101</td>\n",
       "      <td>ABC_20/20</td>\n",
       "      <td>Chicken at Any Price?; The Daytop Solution; Su...</td>\n",
       "      <td>None</td>\n",
       "    </tr>\n",
       "    <tr>\n",
       "      <th>221122</th>\n",
       "      <td>8199</td>\n",
       "      <td>1990</td>\n",
       "      <td>SPOK</td>\n",
       "      <td>101</td>\n",
       "      <td>ABC_20/20</td>\n",
       "      <td>Children of Terror; Against All Odds; Buck Fev...</td>\n",
       "      <td>None</td>\n",
       "    </tr>\n",
       "    <tr>\n",
       "      <th>...</th>\n",
       "      <td>...</td>\n",
       "      <td>...</td>\n",
       "      <td>...</td>\n",
       "      <td>...</td>\n",
       "      <td>...</td>\n",
       "      <td>...</td>\n",
       "      <td>...</td>\n",
       "    </tr>\n",
       "    <tr>\n",
       "      <th>4174366</th>\n",
       "      <td>993</td>\n",
       "      <td>2017</td>\n",
       "      <td>ACAD</td>\n",
       "      <td>NULL</td>\n",
       "      <td>Inside Higher Ed</td>\n",
       "      <td>Study details tool to help professors measure ...</td>\n",
       "      <td>None</td>\n",
       "    </tr>\n",
       "    <tr>\n",
       "      <th>4174367</th>\n",
       "      <td>2393</td>\n",
       "      <td>2017</td>\n",
       "      <td>ACAD</td>\n",
       "      <td>NULL</td>\n",
       "      <td>Diverse: Issues in Higher Education</td>\n",
       "      <td>Experts: Colleges' Media Messages Need Diverse...</td>\n",
       "      <td>None</td>\n",
       "    </tr>\n",
       "    <tr>\n",
       "      <th>4174368</th>\n",
       "      <td>1034</td>\n",
       "      <td>2017</td>\n",
       "      <td>ACAD</td>\n",
       "      <td>NULL</td>\n",
       "      <td>Inside Higher Ed</td>\n",
       "      <td>Another Year on the Academic Job Market\\r\\n</td>\n",
       "      <td>None</td>\n",
       "    </tr>\n",
       "    <tr>\n",
       "      <th>4174369</th>\n",
       "      <td>2132</td>\n",
       "      <td>2017</td>\n",
       "      <td>ACAD</td>\n",
       "      <td>NULL</td>\n",
       "      <td>Diverse: Issues in Higher Education</td>\n",
       "      <td>Kentucky Supreme Court Rules University of Lou...</td>\n",
       "      <td>None</td>\n",
       "    </tr>\n",
       "    <tr>\n",
       "      <th>4174370</th>\n",
       "      <td>1724</td>\n",
       "      <td>2017</td>\n",
       "      <td>ACAD</td>\n",
       "      <td>NULL</td>\n",
       "      <td>Chronicle of Higher Education (subscription)</td>\n",
       "      <td>Meet the Math Professor Who's Fighting Gerryma...</td>\n",
       "      <td>None</td>\n",
       "    </tr>\n",
       "  </tbody>\n",
       "</table>\n",
       "<p>248948 rows × 7 columns</p>\n",
       "</div>"
      ],
      "text/plain": [
       "        word_count  year genre subgen  \\\n",
       "text_id                                 \n",
       "221118        8101  1990  SPOK    101   \n",
       "221119        8358  1990  SPOK    101   \n",
       "221120        7824  1990  SPOK    101   \n",
       "221121        8559  1990  SPOK    101   \n",
       "221122        8199  1990  SPOK    101   \n",
       "...            ...   ...   ...    ...   \n",
       "4174366        993  2017  ACAD   NULL   \n",
       "4174367       2393  2017  ACAD   NULL   \n",
       "4174368       1034  2017  ACAD   NULL   \n",
       "4174369       2132  2017  ACAD   NULL   \n",
       "4174370       1724  2017  ACAD   NULL   \n",
       "\n",
       "                                               source  \\\n",
       "text_id                                                 \n",
       "221118                                      ABC_20/20   \n",
       "221119                                      ABC_20/20   \n",
       "221120                                      ABC_20/20   \n",
       "221121                                      ABC_20/20   \n",
       "221122                                      ABC_20/20   \n",
       "...                                               ...   \n",
       "4174366                              Inside Higher Ed   \n",
       "4174367           Diverse: Issues in Higher Education   \n",
       "4174368                              Inside Higher Ed   \n",
       "4174369           Diverse: Issues in Higher Education   \n",
       "4174370  Chronicle of Higher Education (subscription)   \n",
       "\n",
       "                                                     title publication_info  \n",
       "text_id                                                                      \n",
       "221118   Is He a Killer?; Who Will Love My Pet?; The Tw...             None  \n",
       "221119   Golden Years Behind Bars; The Joker; Goodbye W...             None  \n",
       "221120   Too Old Too Soon; Danger on the Half Shell; Mi...             None  \n",
       "221121   Chicken at Any Price?; The Daytop Solution; Su...             None  \n",
       "221122   Children of Terror; Against All Odds; Buck Fev...             None  \n",
       "...                                                    ...              ...  \n",
       "4174366  Study details tool to help professors measure ...             None  \n",
       "4174367  Experts: Colleges' Media Messages Need Diverse...             None  \n",
       "4174368        Another Year on the Academic Job Market\\r\\n             None  \n",
       "4174369  Kentucky Supreme Court Rules University of Lou...             None  \n",
       "4174370  Meet the Math Professor Who's Fighting Gerryma...             None  \n",
       "\n",
       "[248948 rows x 7 columns]"
      ]
     },
     "execution_count": 92,
     "metadata": {},
     "output_type": "execute_result"
    }
   ],
   "source": [
    "sources_df\n",
    "#248,948 sources"
   ]
  },
  {
   "cell_type": "markdown",
   "metadata": {},
   "source": [
    "## Merge text and meta data"
   ]
  },
  {
   "cell_type": "code",
   "execution_count": 93,
   "metadata": {},
   "outputs": [],
   "source": [
    "# only take articles that have both text and metadata\n",
    "immigra_merged_df = immigra_df.join(sources_df, how='inner')\n",
    "all_merged_df = df.join(sources_df, how='inner')"
   ]
  },
  {
   "cell_type": "code",
   "execution_count": 96,
   "metadata": {},
   "outputs": [
    {
     "name": "stdout",
     "output_type": "stream",
     "text": [
      "11743 219337\n"
     ]
    }
   ],
   "source": [
    "print(len(immigra_merged_df), len(all_merged_df))"
   ]
  },
  {
   "cell_type": "code",
   "execution_count": 97,
   "metadata": {},
   "outputs": [
    {
     "data": {
      "text/plain": [
       "year\n",
       "1990    374\n",
       "1991    379\n",
       "1992    359\n",
       "1993    368\n",
       "1994    441\n",
       "1995    389\n",
       "1996    476\n",
       "1997    386\n",
       "1998    342\n",
       "1999    373\n",
       "2000    467\n",
       "2001    386\n",
       "2002    430\n",
       "2003    435\n",
       "2004    463\n",
       "2005    445\n",
       "2006    648\n",
       "2007    542\n",
       "2008    461\n",
       "2009    456\n",
       "2010    531\n",
       "2011    494\n",
       "2012    527\n",
       "2013    506\n",
       "2014    538\n",
       "2015    527\n",
       "dtype: int64"
      ]
     },
     "execution_count": 97,
     "metadata": {},
     "output_type": "execute_result"
    }
   ],
   "source": [
    "immigra_merged_df.groupby('year').size()\n",
    "# about 100 a year"
   ]
  },
  {
   "cell_type": "code",
   "execution_count": 98,
   "metadata": {},
   "outputs": [
    {
     "data": {
      "text/plain": [
       "year\n",
       "1990    5.771605\n",
       "1991    5.731136\n",
       "1992    5.084986\n",
       "1993    5.078664\n",
       "1994    6.041924\n",
       "1995    5.278871\n",
       "1996    6.563707\n",
       "1997    4.890409\n",
       "1998    4.269130\n",
       "1999    4.549890\n",
       "2000    5.000535\n",
       "2001    4.503033\n",
       "2002    4.637619\n",
       "2003    4.449218\n",
       "2004    4.972079\n",
       "2005    4.951046\n",
       "2006    7.059593\n",
       "2007    5.990274\n",
       "2008    5.346167\n",
       "2009    5.146146\n",
       "2010    5.887571\n",
       "2011    4.878049\n",
       "2012    5.410122\n",
       "2013    5.991002\n",
       "2014    6.101849\n",
       "2015    5.992041\n",
       "dtype: float64"
      ]
     },
     "execution_count": 98,
     "metadata": {},
     "output_type": "execute_result"
    }
   ],
   "source": [
    "immigra_merged_df.groupby('year').size()/all_merged_df.groupby('year').size()*100"
   ]
  },
  {
   "cell_type": "markdown",
   "metadata": {},
   "source": [
    "## Data cleaning"
   ]
  },
  {
   "cell_type": "markdown",
   "metadata": {},
   "source": [
    "Chose to use 'immigra' as the query word as it is more relevant to the research questions of identifying trends in immigration policies"
   ]
  },
  {
   "cell_type": "code",
   "execution_count": 99,
   "metadata": {},
   "outputs": [],
   "source": [
    "data = immigra_merged_df.reset_index()"
   ]
  },
  {
   "cell_type": "code",
   "execution_count": 100,
   "metadata": {},
   "outputs": [],
   "source": [
    "def clean_title(row):\n",
    "    title = row['title']\n",
    "    remove = ['\\r','\\n','^']\n",
    "    for string in remove:\n",
    "        title = title.replace(string,'')\n",
    "    return title\n",
    "\n",
    "def clean_text(row):\n",
    "    text = row['text']\n",
    "    text_id = row['text_id']\n",
    "    remove = ['\\r','\\n','<p>','@','##{}'.format(text_id)]\n",
    "    for string in remove:\n",
    "        text = text.replace(string,'')\n",
    "    return text"
   ]
  },
  {
   "cell_type": "code",
   "execution_count": 101,
   "metadata": {},
   "outputs": [],
   "source": [
    "data['title'] = data.apply(lambda x: clean_title(x), axis=1)\n",
    "data['text'] = data.apply(lambda x: clean_text(x), axis=1)"
   ]
  },
  {
   "cell_type": "code",
   "execution_count": 103,
   "metadata": {},
   "outputs": [],
   "source": [
    "data.to_csv('data/immigra_coca_all.csv', index=False)"
   ]
  },
  {
   "cell_type": "markdown",
   "metadata": {},
   "source": [
    "## Summary of Sample"
   ]
  },
  {
   "cell_type": "code",
   "execution_count": 198,
   "metadata": {},
   "outputs": [
    {
     "data": {
      "text/plain": [
       "array(['MAG', 'ACAD', 'SPOK', 'FIC', 'NEWS'], dtype=object)"
      ]
     },
     "execution_count": 198,
     "metadata": {},
     "output_type": "execute_result"
    }
   ],
   "source": [
    "genres = data['genre'].unique()\n",
    "genres"
   ]
  },
  {
   "cell_type": "code",
   "execution_count": 199,
   "metadata": {},
   "outputs": [],
   "source": [
    "data['year'].unique()\n",
    "years = range(1990,2016)"
   ]
  },
  {
   "cell_type": "markdown",
   "metadata": {},
   "source": [
    "### Number / percentage of docs"
   ]
  },
  {
   "cell_type": "code",
   "execution_count": 282,
   "metadata": {},
   "outputs": [
    {
     "data": {
      "text/plain": [
       "Text(0.5, 1.0, \"Number of documents with 'immigra' in the COCA corpus by year\")"
      ]
     },
     "execution_count": 282,
     "metadata": {},
     "output_type": "execute_result"
    },
    {
     "data": {
      "image/png": "[encoded data removed]",
      "text/plain": [
       "<Figure size 432x288 with 1 Axes>"
      ]
     },
     "metadata": {
      "needs_background": "light"
     },
     "output_type": "display_data"
    }
   ],
   "source": [
    "# Number of articles over time by genre\n",
    "acad, = plt.plot(years, data[data['genre']=='ACAD'].groupby('year').size(), label='Academic')\n",
    "mag, = plt.plot(years, data[data['genre']=='MAG'].groupby('year').size(), label='Magazine')\n",
    "spok, = plt.plot(years, data[data['genre']=='SPOK'].groupby('year').size(), label='Spoken')\n",
    "fic, = plt.plot(years, data[data['genre']=='FIC'].groupby('year').size(), label='Fiction')\n",
    "news, = plt.plot(years, data[data['genre']=='NEWS'].groupby(['year']).size(), label='News')\n",
    "all_, = plt.plot(years,data.groupby('year').size(), label=\"All\")\n",
    "\n",
    "colors = [\"brown\",\"orange\",\"green\",\"pink\",\"purple\",\"blue\"]\n",
    "for i in range(len(plt.gca().get_lines())):\n",
    "    plt.gca().get_lines()[i].set_color(colors[i])\n",
    "    \n",
    "plt.legend(handles=[acad, mag, spok, fic, news, all_], loc=\"center right\", bbox_to_anchor=(1.3, .5), ncol=1)\n",
    "\n",
    "\n",
    "plt.ylabel('Number of documents')\n",
    "plt.xlabel('Year')\n",
    "plt.title(\"Number of documents with 'immigra' in the COCA corpus by year\")"
   ]
  },
  {
   "cell_type": "code",
   "execution_count": 286,
   "metadata": {},
   "outputs": [
    {
     "data": {
      "text/plain": [
       "Text(0.5, 1.0, \"Percentage of documents with 'immigra' in the COCA corpus by year\")"
      ]
     },
     "execution_count": 286,
     "metadata": {},
     "output_type": "execute_result"
    },
    {
     "data": {
      "image/png": "[encoded data removed]",
      "text/plain": [
       "<Figure size 432x288 with 1 Axes>"
      ]
     },
     "metadata": {
      "needs_background": "light"
     },
     "output_type": "display_data"
    }
   ],
   "source": [
    "# Percentage of articles over time by genre\n",
    "\n",
    "acad, = plt.plot(years, data[data['genre']=='ACAD'].groupby('year').size()/all_merged_df[all_merged_df['genre']=='ACAD'].groupby('year').size()*100, label='Academic')\n",
    "mag, = plt.plot(years, data[data['genre']=='MAG'].groupby('year').size()/all_merged_df[all_merged_df['genre']=='MAG'].groupby('year').size()*100, label='Magazine')\n",
    "spok, = plt.plot(years, data[data['genre']=='SPOK'].groupby('year').size()/all_merged_df[all_merged_df['genre']=='SPOK'].groupby('year').size()*100, label='Spoken')\n",
    "fic, = plt.plot(years, data[data['genre']=='FIC'].groupby('year').size()/all_merged_df[all_merged_df['genre']=='FIC'].groupby('year').size()*100, label='Fiction')\n",
    "news, = plt.plot(years, data[data['genre']=='NEWS'].groupby('year').size()/all_merged_df[all_merged_df['genre']=='NEWS'].groupby('year').size()*100, label='News')\n",
    "all_, = plt.plot(years, data.groupby('year').size()/all_merged_df.groupby('year').size()*100, label=\"All\")\n",
    "\n",
    "colors = [\"brown\",\"orange\",\"green\",\"pink\",\"purple\",\"blue\"]\n",
    "for i in range(len(plt.gca().get_lines())):\n",
    "    plt.gca().get_lines()[i].set_color(colors[i])\n",
    "    \n",
    "plt.legend(handles=[acad, mag, spok, fic, news, all_], loc=\"center right\", bbox_to_anchor=(1.3, .5), ncol=1)\n",
    "\n",
    "#plt.vlines('2006',0,700, linestyles='dashed')\n",
    "\n",
    "plt.ylabel('Percentage of documents')\n",
    "plt.xlabel('Year')\n",
    "plt.title(\"Percentage of documents with 'immigra' in the COCA corpus by year\")"
   ]
  },
  {
   "cell_type": "markdown",
   "metadata": {},
   "source": [
    "### Average word count"
   ]
  },
  {
   "cell_type": "code",
   "execution_count": 257,
   "metadata": {},
   "outputs": [
    {
     "data": {
      "text/plain": [
       "3870.7616452354596"
      ]
     },
     "execution_count": 257,
     "metadata": {},
     "output_type": "execute_result"
    }
   ],
   "source": [
    "# Average Word Count\n",
    "data['word_count'] = data['word_count'].apply(int)\n",
    "data['word_count'].sum() / len(data)"
   ]
  },
  {
   "cell_type": "code",
   "execution_count": 258,
   "metadata": {},
   "outputs": [
    {
     "name": "stdout",
     "output_type": "stream",
     "text": [
      "56 107449\n"
     ]
    }
   ],
   "source": [
    "print(data['word_count'].min(), data['word_count'].max())"
   ]
  },
  {
   "cell_type": "code",
   "execution_count": 259,
   "metadata": {},
   "outputs": [],
   "source": [
    "def get_word_count(data):\n",
    "    word_count = []\n",
    "    for yr in years:\n",
    "        yr = str(yr)\n",
    "        yearly = data[data['year']==yr]\n",
    "        word_count.append(yearly['word_count'].sum() / len(yearly))\n",
    "    return word_count"
   ]
  },
  {
   "cell_type": "code",
   "execution_count": 288,
   "metadata": {},
   "outputs": [
    {
     "data": {
      "text/plain": [
       "Text(0.5, 1.0, \"Average word count of documents with 'immigra' in the COCA corpus by year\")"
      ]
     },
     "execution_count": 288,
     "metadata": {},
     "output_type": "execute_result"
    },
    {
     "data": {
      "image/png": "[encoded data removed]",
      "text/plain": [
       "<Figure size 432x288 with 1 Axes>"
      ]
     },
     "metadata": {
      "needs_background": "light"
     },
     "output_type": "display_data"
    }
   ],
   "source": [
    "acad, = plt.plot(years, get_word_count(data[data['genre']=='ACAD']), label='Academic')\n",
    "mag, = plt.plot(years, get_word_count(data[data['genre']=='MAG']), label='Magazine')\n",
    "spok, = plt.plot(years, get_word_count(data[data['genre']=='SPOK']), label='Spoken')\n",
    "fic, = plt.plot(years, get_word_count(data[data['genre']=='FIC']), label='Fiction')\n",
    "news, = plt.plot(years, get_word_count(data[data['genre']=='NEWS']), label='News')\n",
    "all_, = plt.plot(years, get_word_count(data), label='All')\n",
    "\n",
    "colors = [\"brown\",\"orange\",\"green\",\"pink\",\"purple\",\"blue\"]\n",
    "for i in range(6):\n",
    "    plt.gca().get_lines()[i].set_color(colors[i])\n",
    "    \n",
    "plt.legend(handles=[acad, mag, spok, fic, news, all_], loc=\"center right\", bbox_to_anchor=(1.3, .5), ncol=1)\n",
    "\n",
    "# plot average of sample\n",
    "plt.hlines(data['word_count'].sum() / len(data), 1990, 2015, linestyles='dashed')\n",
    "\n",
    "plt.ylabel('Average Word Count')\n",
    "plt.xlabel('Year')\n",
    "plt.title(\"Average word count of documents with 'immigra' in the COCA corpus by year\")"
   ]
  },
  {
   "cell_type": "markdown",
   "metadata": {},
   "source": [
    "### Unique sources"
   ]
  },
  {
   "cell_type": "code",
   "execution_count": 261,
   "metadata": {},
   "outputs": [],
   "source": [
    "# Number of unique sources over time\n",
    "unique_source = []\n",
    "for yr in years:\n",
    "    yr = str(yr)\n",
    "    yearly = data[data['year']==yr]\n",
    "    unique_source.append(len(yearly['source'].unique()))"
   ]
  },
  {
   "cell_type": "code",
   "execution_count": 262,
   "metadata": {},
   "outputs": [
    {
     "data": {
      "text/plain": [
       "832"
      ]
     },
     "execution_count": 262,
     "metadata": {},
     "output_type": "execute_result"
    }
   ],
   "source": [
    "len(data['source'].unique())"
   ]
  },
  {
   "cell_type": "code",
   "execution_count": 287,
   "metadata": {
    "scrolled": true
   },
   "outputs": [
    {
     "data": {
      "text/plain": [
       "Text(0.5, 1.0, \"Number of unique sources with 'immigra' in the COCA corpus by year\")"
      ]
     },
     "execution_count": 287,
     "metadata": {},
     "output_type": "execute_result"
    },
    {
     "data": {
      "image/png": "[encoded data removed]",
      "text/plain": [
       "<Figure size 432x288 with 1 Axes>"
      ]
     },
     "metadata": {
      "needs_background": "light"
     },
     "output_type": "display_data"
    }
   ],
   "source": [
    "all_, = plt.plot(years, unique_source, label=\"All\")\n",
    "plt.legend(handles=[all_], loc=\"center right\", bbox_to_anchor=(1.3, .5), ncol=1)\n",
    "\n",
    "plt.ylabel('Number of unique sources')\n",
    "plt.xlabel('Year')\n",
    "plt.title(\"Number of unique sources with 'immigra' in the COCA corpus by year\")"
   ]
  }
 ],
 "metadata": {
  "kernelspec": {
   "display_name": "Python 3.8.1",
   "language": "python",
   "name": "3.8.1"
  },
  "language_info": {
   "codemirror_mode": {
    "name": "ipython",
    "version": 3
   },
   "file_extension": ".py",
   "mimetype": "text/x-python",
   "name": "python",
   "nbconvert_exporter": "python",
   "pygments_lexer": "ipython3",
   "version": "3.8.1"
  }
 },
 "nbformat": 4,
 "nbformat_minor": 4
}
